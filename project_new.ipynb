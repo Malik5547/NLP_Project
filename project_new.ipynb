{
  "cells": [
    {
      "cell_type": "markdown",
      "metadata": {
        "id": "0LkOktoy5xRL"
      },
      "source": [
        "training_set = Tot setul de date, este vectorul care contine toate documentele\n",
        "document = Element din training_set. Fiecare document contine \"data\", \"annotations\" si \"predictions\"\n"
      ]
    },
    {
      "cell_type": "code",
      "execution_count": 1,
      "metadata": {
        "id": "8V6veP5-ByqK"
      },
      "outputs": [],
      "source": [
        "import re\n",
        "import json\n"
      ]
    },
    {
      "cell_type": "markdown",
      "metadata": {
        "id": "Q2GF2GPXAxXi"
      },
      "source": [
        "Parse Training and Testing data from JSON"
      ]
    },
    {
      "cell_type": "code",
      "execution_count": 2,
      "metadata": {
        "id": "nJJ1HEr2147_"
      },
      "outputs": [],
      "source": [
        "def parse_json(file_path):\n",
        "\n",
        "  # Step 2: Open the file in read mode\n",
        "  try:\n",
        "    with open(file_path, \"r\") as json_file:\n",
        "      # Step 3: Load the JSON data using json.load()\n",
        "      parsed_file = json.load(json_file)\n",
        "  except FileNotFoundError:\n",
        "    print(f\"Error: File not found at {file_path}\")\n",
        "  else:\n",
        "    print(\"JSON data parsed successfully!\")\n",
        "    # Step 4: Access and process the data\n",
        "    # (See examples below based on data structure)\n",
        "  return parsed_file"
      ]
    },
    {
      "cell_type": "code",
      "execution_count": 3,
      "metadata": {
        "colab": {
          "base_uri": "https://localhost:8080/"
        },
        "id": "L0QPozyd5xRM",
        "outputId": "24f172dd-500f-4275-9bc4-fc486173abab"
      },
      "outputs": [
        {
          "name": "stdout",
          "output_type": "stream",
          "text": [
            "JSON data parsed successfully!\n",
            "JSON data parsed successfully!\n"
          ]
        }
      ],
      "source": [
        "training_set = parse_json(\"./train_data.json\")\n",
        "testing_set = parse_json(\"./test_data.json\")"
      ]
    },
    {
      "cell_type": "code",
      "execution_count": 4,
      "metadata": {
        "colab": {
          "base_uri": "https://localhost:8080/"
        },
        "id": "h8vgfvxL2s5P",
        "outputId": "efb361e6-ccd9-4482-f698-8e015209d9fb"
      },
      "outputs": [
        {
          "name": "stdout",
          "output_type": "stream",
          "text": [
            "254\n",
            "64\n"
          ]
        }
      ],
      "source": [
        "print(len(training_set))\n",
        "print(len(testing_set))"
      ]
    },
    {
      "cell_type": "code",
      "execution_count": 5,
      "metadata": {
        "id": "rDlG9kmj5xRO"
      },
      "outputs": [],
      "source": [
        "predictions = [document[\"predictions\"] for document in training_set]\n",
        "texts = [document[\"data\"][\"text\"] for document in training_set]\n",
        "test_texts = [document[\"data\"][\"text\"] for document in testing_set]"
      ]
    },
    {
      "cell_type": "markdown",
      "metadata": {
        "id": "PO47cFyb30E-"
      },
      "source": [
        "Extract terms given by CUTEXT"
      ]
    },
    {
      "cell_type": "code",
      "execution_count": 6,
      "metadata": {
        "id": "DEnc1hI2-dcN"
      },
      "outputs": [],
      "source": [
        "def extract_terms_from_file(file_path):\n",
        "    terms = []\n",
        "    with open(file_path, 'r') as file:\n",
        "        for line in file:\n",
        "            if line.startswith(\"Term:\"):\n",
        "                term = line.split(\"Term:\")[1].strip()\n",
        "                terms.append(term)\n",
        "    return terms"
      ]
    },
    {
      "cell_type": "code",
      "execution_count": 7,
      "metadata": {
        "id": "oiUsBmvlK7BF"
      },
      "outputs": [],
      "source": [
        "def parse_terms(extracted_terms):\n",
        "  new_terms = []\n",
        "  for term in extracted_terms:\n",
        "    if term[0].isalpha() and term[-1].isalpha() and \"**\" not in term and \"(\" not in term and \")\" not in term and len(term)>3:\n",
        "      new_terms.append(term)\n",
        "  return new_terms"
      ]
    },
    {
      "cell_type": "code",
      "execution_count": 8,
      "metadata": {
        "id": "Ur92zYTcItiX"
      },
      "outputs": [],
      "source": [
        "file_path = \"./terms_raw.txt\"\n",
        "# Extract terms from the file\n",
        "cutext_terms = extract_terms_from_file(file_path)"
      ]
    },
    {
      "cell_type": "code",
      "execution_count": 9,
      "metadata": {
        "colab": {
          "base_uri": "https://localhost:8080/"
        },
        "id": "JOcMyguOI351",
        "outputId": "de4ad4ff-0535-40d1-aae8-628c03fcbc69"
      },
      "outputs": [
        {
          "name": "stdout",
          "output_type": "stream",
          "text": [
            "21554\n"
          ]
        }
      ],
      "source": [
        "print(len(cutext_terms))"
      ]
    },
    {
      "cell_type": "code",
      "execution_count": 10,
      "metadata": {
        "id": "kk3JZb87Mt83"
      },
      "outputs": [],
      "source": [
        "cutext_terms = parse_terms(cutext_terms)"
      ]
    },
    {
      "cell_type": "markdown",
      "metadata": {
        "id": "8DKPRePm5xRO"
      },
      "source": [
        "Extract NEG, UNC, NSCO and USCO from Training Data"
      ]
    },
    {
      "cell_type": "code",
      "execution_count": 11,
      "metadata": {
        "id": "CgMZeYPB5xRO"
      },
      "outputs": [],
      "source": [
        "# Gets a list of tuples representing character offsets and returns list of words\n",
        "def get_words(text, offsets):\n",
        "  words = []\n",
        "  for start, end in offsets:\n",
        "    #words.append(text[start:end-1])\n",
        "    #words.append(text[start-1:end])\n",
        "    if text[start-1].isalpha():\n",
        "      s=start-1\n",
        "    else:\n",
        "      s=start\n",
        "    if text[end-1].isalpha():\n",
        "      e=end\n",
        "    else:\n",
        "      e=end-1\n",
        "    words.append(text[s:e])\n",
        "  return words"
      ]
    },
    {
      "cell_type": "code",
      "execution_count": 12,
      "metadata": {
        "id": "NNwlbJFT5xRP"
      },
      "outputs": [],
      "source": [
        "# Parses a document and returns 4 lists of tuples representing words\n",
        "def find_cues_and_scopes(document):\n",
        "  neg_postitions_pairs = [(result_element[\"value\"][\"start\"], result_element[\"value\"][\"end\"]) for result_element in document[\"predictions\"][0][\"result\"] if \"NEG\" in result_element[\"value\"][\"labels\"]]\n",
        "  unc_postitions_pairs = [(result_element[\"value\"][\"start\"], result_element[\"value\"][\"end\"]) for result_element in document[\"predictions\"][0][\"result\"] if \"UNC\" in result_element[\"value\"][\"labels\"]]\n",
        "  nsco_postitions_pairs = [(result_element[\"value\"][\"start\"], result_element[\"value\"][\"end\"]) for result_element in document[\"predictions\"][0][\"result\"] if \"NSCO\" in result_element[\"value\"][\"labels\"]]\n",
        "  usco_postitions_pairs = [(result_element[\"value\"][\"start\"], result_element[\"value\"][\"end\"]) for result_element in document[\"predictions\"][0][\"result\"] if \"USCO\" in result_element[\"value\"][\"labels\"]]\n",
        "  neg_words = get_words(document[\"data\"][\"text\"], neg_postitions_pairs)\n",
        "  unc_words = get_words(document[\"data\"][\"text\"], unc_postitions_pairs)\n",
        "  nsco_words = get_words(document[\"data\"][\"text\"], nsco_postitions_pairs)\n",
        "  usco_words = get_words(document[\"data\"][\"text\"], usco_postitions_pairs)\n",
        "  return neg_words, unc_words, nsco_words, usco_words"
      ]
    },
    {
      "cell_type": "code",
      "execution_count": 57,
      "metadata": {},
      "outputs": [],
      "source": [
        "# Parses a document and returns 4 lists of tuples representing words\n",
        "def create_cue_sets(document):\n",
        "\n",
        "  neg_pre_cues = []\n",
        "  neg_post_cues = []\n",
        "  unc_pre_cues = []\n",
        "  unc_post_cues = []\n",
        "\n",
        "  neg_postitions_pairs = [(result_element[\"value\"][\"start\"], result_element[\"value\"][\"end\"]) for result_element in document[\"predictions\"][0][\"result\"] if \"NEG\" in result_element[\"value\"][\"labels\"]]\n",
        "  unc_postitions_pairs = [(result_element[\"value\"][\"start\"], result_element[\"value\"][\"end\"]) for result_element in document[\"predictions\"][0][\"result\"] if \"UNC\" in result_element[\"value\"][\"labels\"]]\n",
        "  nsco_postitions_pairs = [(result_element[\"value\"][\"start\"], result_element[\"value\"][\"end\"]) for result_element in document[\"predictions\"][0][\"result\"] if \"NSCO\" in result_element[\"value\"][\"labels\"]]\n",
        "  usco_postitions_pairs = [(result_element[\"value\"][\"start\"], result_element[\"value\"][\"end\"]) for result_element in document[\"predictions\"][0][\"result\"] if \"USCO\" in result_element[\"value\"][\"labels\"]]\n",
        "  \n",
        "  print(len(neg_postitions_pairs))\n",
        "  print(len(nsco_postitions_pairs))\n",
        "  print(len(unc_postitions_pairs))\n",
        "  print(len(usco_postitions_pairs))\n",
        "\n",
        "  neg_words = get_words(document[\"data\"][\"text\"], neg_postitions_pairs)\n",
        "  unc_words = get_words(document[\"data\"][\"text\"], unc_postitions_pairs)\n",
        "  nsco_words = get_words(document[\"data\"][\"text\"], nsco_postitions_pairs)\n",
        "  usco_words = get_words(document[\"data\"][\"text\"], usco_postitions_pairs)\n",
        "\n",
        "\n",
        "  print(\"Muie\", len(unc_words), len(unc_postitions_pairs))\n",
        "\n",
        "  neg_tpl = [(neg_words[i], neg_postitions_pairs[i][0], neg_postitions_pairs[i][1]) for i in range(len(neg_words))]\n",
        "  unc_tpl = [(unc_words[i], unc_postitions_pairs[i][0], unc_postitions_pairs[i][1]) for i in range(len(unc_words))]\n",
        "  nsco_tpl = [(nsco_words[i], nsco_postitions_pairs[i][0], nsco_postitions_pairs[i][1]) for i in range(len(nsco_words))]\n",
        "  usco_tpl = [(usco_words[i], usco_postitions_pairs[i][0], usco_postitions_pairs[i][1]) for i in range(len(usco_words))]\n",
        "  \n",
        "  neg_tpl = sorted(neg_tpl, key=lambda x: x[1])\n",
        "  unc_tpl = sorted(unc_tpl, key=lambda x: x[1])\n",
        "  nsco_tpl = sorted(nsco_tpl, key=lambda x: x[1])\n",
        "  usco_tpl = sorted(usco_tpl, key=lambda x: x[1])\n",
        "\n",
        "  for i in range(min(len(neg_tpl), len(nsco_tpl))):\n",
        "    if neg_tpl[i][1] > nsco_tpl[i][1]:\n",
        "      neg_post_cues.append(neg_tpl[i][0])\n",
        "    else:\n",
        "      neg_pre_cues.append(neg_tpl[i][0])\n",
        "  for i in range(min(len(unc_tpl), len(nsco_tpl))):\n",
        "    if unc_tpl[i][1] > nsco_tpl[i][1]:\n",
        "      unc_post_cues.append(unc_tpl[i][0])\n",
        "    else:\n",
        "      unc_pre_cues.append(unc_tpl[i][0])\n",
        "\n",
        "  print(neg_pre_cues)\n",
        "  print(neg_post_cues)\n",
        "  for cue in neg_pre_cues:\n",
        "    if cue in neg_post_cues:\n",
        "      print(\"E in ambele:\", cue)\n",
        "\n",
        "\n",
        "  return neg_pre_cues, neg_post_cues, unc_pre_cues, unc_post_cues"
      ]
    },
    {
      "cell_type": "code",
      "execution_count": null,
      "metadata": {},
      "outputs": [],
      "source": [
        "# pre = apar inainte de scope\n",
        "neg_pre_cues = set()\n",
        "neg_post_cues = set()\n",
        "unc_pre_cues = set()\n",
        "unc_post_cues = set()\n",
        "for document in training_set:\n",
        "    neg_pre, neg_post, unc_pre, unc_post = create_cue_sets(document)\n",
        "    neg_pre_cues.update(neg_pre)\n",
        "    neg_post_cues.update(neg_post)\n",
        "    unc_pre_cues.update(unc_pre)\n",
        "    unc_post_cues.update(unc_post)\n",
        "\n",
        "\n"
      ]
    },
    {
      "cell_type": "code",
      "execution_count": 60,
      "metadata": {},
      "outputs": [
        {
          "name": "stdout",
          "output_type": "stream",
          "text": [
            "E in ambele: negativa\n",
            "E in ambele: niega\n",
            "E in ambele: ausencia de\n",
            "E in ambele: sin\n",
            "E in ambele: afebril\n",
            "E in ambele: retiro\n",
            "E in ambele: negativo\n",
            "E in ambele: no\n",
            "E in ambele: inespecificos\n",
            "E in ambele: negativos\n",
            "E in ambele: negativas\n",
            "E in ambele: sense\n",
            "E in ambele: inespecifico\n"
          ]
        }
      ],
      "source": [
        "for neg in neg_pre_cues:\n",
        "  if neg in neg_post_cues:\n",
        "    print(\"E in ambele:\", neg)\n",
        "    "
      ]
    },
    {
      "cell_type": "code",
      "execution_count": 37,
      "metadata": {
        "id": "3KCH-BsM5xRP"
      },
      "outputs": [
        {
          "name": "stdout",
          "output_type": "stream",
          "text": [
            "['no', 'negativa', 'sin', 'sin', 'no', 'sin', 'sin', 'afebril']\n",
            "['no', 'no', 'no', 'nega']\n",
            "['sin', 'ausencia de', 'niega', 'afebril', 'no', 'sin', 'sin', 'no', 'sin', 'afebril']\n",
            "['no', 'no', 'sin', 'no', 'no', 'no', 'sin', 'no', 'no', 'tampoco', 'sin', 'no', 'sin', 'sin', 'no', 'sin', 'no', 'sin', 'no', 'no', 'sin', 'inespecificos', 'sin', 'afebril', 'afebril']\n",
            "['sin', 'no', 'no', 'sin', 'afebril', 'desaparicion de']\n",
            "['sin', 'sin', 'no', 'sin', 'sin', 'no', 'no', 'no', 'no', 'no', 'negativo', 'negativo', 'sin', 'no', 'negativas', 'negativo']\n",
            "['no', 'no', 'no', 'no', 'no', 'no', 'negativo', 'negativo', 'no', 'sin', 'no', 'no', 'no', 'no', 'no', 'no', 'no', 'no', 'no', 'negativos', 'negativos', 'negativo']\n",
            "['sin', 'sin', 'niega', 'no', 'no', 'sin', 'sin', 'sin', 'sin', 'negativos', 'negativa', 'afebril']\n",
            "['niega', 'niega', 'sin', 'no', 'sin', 'sin', 'no', 'no', 'afebril']\n",
            "['sin', 'sin', 'no', 'no', 'ex']\n",
            "['sin', 'sin', 'sin', 'no', 'sin', 'niega', 'no', 'niega', 'sin', 'sin', 'sin', 'sin', 'sin', 'no', 'sin', 'sin', 'sin', 'sin', 'no', 'sin', 'niega', 'no', 'no', 'no', 'sin', 'no', 'no', 'sin', 'no', 'no', 'afebril', 'sin', 'sin', 'sin', 'negativos']\n",
            "['no', 'no', 'niega', 'no', 'negativas', 'negativo', 'no', 'sin', 'no', 'sin', 'no', 'no', 'negativo']\n",
            "['no', 'no', 'no', 'no', 'no', 'no', 'neg', 'neg', 'neg', 'neg', 'no', 'sin', 'no', 'no']\n",
            "['niega', 'sin', 'sin', 'sin', 'no', 'afebril']\n",
            "['no', 'no', 'no', 'sin', 'sin', 'sin', 'sin', 'no', 'no', 'no', 'no', 'no', 'sin', 'ausencia de', 'sin', 'no', 'no']\n",
            "['no', 'no', 'neg', 'neg', 'neg', 'neg', 'ex', 'negativos', 'sin']\n",
            "['sin', 'no', 'no', 'no', 'no', 'no', 'sin', 'ausencia de', 'no', 'sin', 'sin', 'negativos', 'negativos', 'negativo', 'afebril', 'no', 'no', 'sin', 'sin', 'no', 'asintomatica', 'sin']\n",
            "['sin', 'negativos', 'no', 'no', 'no', 'sin', 'afebril', 'sin', 'sin', 'sin', 'no', 'negativo', 'ex']\n",
            "['no', 'no', 'no', 'no', 'negativa', 'negativo', 'no', 'descartada', 'sin', 'sin', 'sin', 'negativo']\n",
            "['no', 'no', 'asintomatico', 'sin', 'sin', 'sin', 'no', 'sin', 'sin', 'ausencia de', 'no', 'sin', 'afebril', 'afebril']\n",
            "['no', 'negativo', 'negativo', 'sin', 'sin', 'negativos']\n",
            "['no', 'no', 'no', 'no', 'no', 'no', 'no', 'no', 'no', 'no', 'no', 'no', 'ausencia de', 'no', 'sin', 'no']\n",
            "['no', 'no', 'no', 'no', 'sin', 'sin', 'negativo', 'neg', 'neg', 'sin', 'no', 'no', 'no', 'no', 'no', 'negativos', 'neg', 'neg', 'negativo']\n",
            "['no', 'no', 'no']\n",
            "['no', 'sin', 'sin', 'sin', 'no', 'no', 'no', 'sin', 'no', 'no', 'no', 'sin', 'sin', 'no', 'sin', 'no', 'niega', 'negativos']\n",
            "['sin', 'sin', 'sin', 'no', 'sin', 'sin', 'niega', 'sin', 'sin', 'sin', 'no', 'no', 'no', 'no', 'no', 'no', 'sin', 'no', 'no', 'no', 'sin', 'no', 'sin', 'no', 'sin', 'afebril', 'sin', 'no', 'descarta', 'sin', 'sin', 'ausencia de', 'sin', 'sin', 'ausencia de', 'sin', 'falta de', 'no', 'no', 'afebril', 'afebril']\n",
            "['niega', 'negativa', 'sin', 'sin', 'no', 'negativa', 'negativa', 'afebril']\n",
            "['desorientacion', 'sin', 'sin', 'no', 'no', 'sin', 'no', 'se desestimo', 'sin', 'negativo', 'sin', 'sin', 'sin', 'sin', 'sin', 'niega', 'sin', 'niega', 'no', 'sin', 'no', 'sin', 'negativa', 'no', 'no', 'sin', 'no', 'sin', 'negativo', 'no', 'negativos', 'sin', 'sin', 'sin', 'afebril', 'no', 'sin', 'sin', 'sin', 'sin', 'no', 'ausencia de', 'no', 'no', 'afebril', 'no', 'sin', 'sin', 'sin', 'sin', 'sin', 'sin']\n",
            "['sin', 'niega', 'no', 'sin', 'no', 'negativa', 'no', 'tampoco', 'sin', 'impide', 'niega', 'niega', 'sin', 'sin', 'sin', 'no', 'no', 'sin', 'sin', 'no', 'no', 'no', 'no', 'no', 'sin', 'negativo', 'sin', 'no', 'no', 'sin', 'sin', 'sin', 'no', 'negativo', 'negativo', 'negativo', 'ex', 'sin']\n",
            "['no', 'no', 'niega', 'no', 'sin', 'sin', 'no', 'no', 'sin', 'sin', 'sin', 'no', 'negativos', 'no', 'afebril', 'ausencia de', 'no', 'sin', 'sin', 'sin', 'negativos', 'afebril', 'negativos', 'se retira']\n",
            "['sin', 'exfumador', 'negativo', 'sin', 'sin', 'sin', 'sin']\n",
            "['no', 'no', 'sin', 'sin', 'sin', 'sin', 'no', 'no', 'no', 'sin', 'no', 'no', 'no', 'no', 'no', 'no', 'no', 'negativas', 'negativo', 'negativo', 'sin', 'sin', 'sin', 'negativos', 'sin', 'no', 'negativo', 'afebril']\n",
            "['ex fumador', 'no', 'negativa', 'sin', 'ausencia de', 'sin', 'sin', 'sin', 'sin', 'no', 'no', 'no', 'no', 'no', 'cede', 'sin', 'sin', 'sin', 'sin', 'sin', 'sin', 'no', 'no', 'sin', 'negativa', 'negativos', 'no', 'sin', 'no', 'no', 'no', 'no', 'sin', 'no', 'sin', 'no', 'sin', 'sin', 'sin', 'sin', 'negativo', 'afebril', 'negativa', 'no', 'tampoco', 'sin', 'sin']\n",
            "['no', 'sin', 'no', 'sin', 'no', 'sin', 'no', 'no', 'no', 'afebril']\n",
            "['sin', 'niega', 'no', 'niega', 'no', 'no', 'sin', 'no', 'no', 'sin', 'no', 'no', 'sin', 'sin', 'sin', 'sin', 'no', 'no', 'no', 'sin', 'sin', 'sin', 'no', 'sin', 'afebril', 'no', 'sin', 'sin', 'afebril', 'no', 'sin', 'no', 'no', 'negativa', 'inespecifico']\n",
            "['no', 'no', 'no', 'asintomatica', 'negativa', 'no', 'negativa', 'sin', 'no', 'no', 'no', 'sin', 'sin', 'no', 'sin', 'niega', 'negativa', 'afebril']\n",
            "['no', 'no', 'no', 'no', 'sin', 'no', 'no', 'sin', 'no', 'no', 'no', 'sin', 'sin', 'no', 'negativos', 'negativo']\n",
            "['sin', 'ausencia de', 'sin', 'negativas', 'sin', 'ausencia de', 'no', 'no', 'no', 'no', 'no', 'no', 'no', 'no', 'afebril', 'negativa', 'afebril', 'ex']\n",
            "['no', 'no', 'niega', 'sin', 'no', 'no', 'sin', 'no', 'no', 'sin', 'sin', 'niega', 'no', 'sin', 'sin', 'negativo', 'negativo']\n",
            "['no', 'sin', 'no', 'no', 'negativos', 'negativos', 'sin', 'sin', 'no', 'no', 'sin', 'sin', 'no', 'impide', 'sin', 'negativos', 'no', 'no', 'no', 'no', 'no', 'sin', 'sin', 'no', 'no', 'sin', 'sin', 'no', 'no', 'negatividad de', 'afebril', 'sin', 'cede', 'no', 'no', 'no']\n",
            "['no']\n",
            "['no', 'no', 'no', 'no', 'no', 'neg']\n",
            "['no', 'sin', 'afebril']\n",
            "['no', 'no', 'no', 'negativa', 'no', 'no', 'sin', 'sin', 'sin', 'sin', 'asintomatica']\n",
            "['no', 'no', 'no', 'sin', 'no', 'no', 'no', 'no', 'no', 'no', 'no', 'ausencia de', 'ausencia de', 'no', 'sin', 'ausencia de', 'ausencia de', 'sin', 'cede', 'sin', 'no']\n",
            "['sin', 'no']\n",
            "['no', 'sin', 'sin', 'sin', 'no']\n",
            "['no', 'no', 'no', 'niega', 'sin', 'sin', 'no', 'no', 'sin', 'no', 'sin', 'no', 'sin', 'sin', 'sin', 'sin', 'no', 'no', 'no', 'neg', 'neg', 'neg', 'neg']\n",
            "['sin', 'sin', 'sin', 'no', 'no', 'no', 'afebril']\n",
            "['sin', 'afebril', 'sin']\n",
            "['no', 'no', 'no', 'no', 'negativo', 'negativo', 'negativo', 'sin']\n",
            "['no', 'no', 'no', 'no', 'no', 'no', 'no', 'sin', 'sin', 'ausencia de', 'no']\n",
            "['no', 'niega', 'no', 'sin', 'no', 'no', 'sin', 'sin', 'no', 'no', 'sin', 'sin', 'sin', 'sin', 'no', 'sin', 'no', 'no', 'sin', 'no', 'sin', 'niega', 'sin', 'sin', 'sin', 'sin', 'sin', 'sin', 'sin', 'sin', 'sin', 'no', 'sin', 'no', 'falta de', 'no', 'sin', 'sin', 'no', 'sin', 'afebril', 'negativo', 'negativo', 'negativo', 'negativo', 'negativo', 'ex']\n",
            "['no', 'no', 'no', 'no', 'negativo', 'sin', 'neg', 'neg', 'neg', 'negativo', 'negativo', 'no', 'no', 'no', 'no', 'no', 'no', 'no', 'niega', 'negativo', 'neg', 'neg', 'negativo']\n",
            "['negativa', 'negativa', 'negativa', 'no', 'no', 'sense', 'no', 'no']\n",
            "['no', 'no', 'no', 'no', 'no', 'no', 'negativo', 'no', 'sin', 'no', 'no', 'no', 'no', 'no', 'no', 'negativo', 'negativos']\n",
            "['sin', 'sin', 'sin', 'no', 'sin', 'afebril']\n",
            "['no', 'no', 'no', 'suspendido', 'sin', 'no', 'no', 'negativo', 'no', 'sin', 'negativo', 'negaitvo']\n",
            "['no', 'negativo', 'asintomatico', 'sin', 'indetectable', 'negativos', 'negativo', 'no', 'no', 'no', 'sin', 'no', 'sin', 'no', 'no', 'no', 'negativos', 'no', 'sin', 'sin', 'no', 'no', 'negativo', 'sin', 'negativos', 'no', 'sin', 'afebril', 'sin', 'no', 'no', 'no', 'no']\n",
            "['no', 'no', 'niega', 'no', 'no', 'negativo']\n",
            "['sin']\n",
            "['no', 'sin', 'sin', 'no', 'retirar', 'sense']\n",
            "['no', 'exfumador', 'no', 'sin', 'ausencia de', 'no', 'no', 'sin', 'no', 'imposibilidad de', 'no', 'niega', 'niega', 'sin', 'no', 'no', 'sin', 'no', 'no', 'no', 'no', 'no', 'no', 'no', 'no', 'sin', 'sin', 'afebril', 'sin', 'no', 'sin', 'no', 'no', 'no', 'negativa', 'no', 'no', 'no', 'no', 'negativa', 'sin', 'sin', 'no', 'no', 'sin', 'ausencia de', 'sin', 'descarta', 'afebril', 'asintomatico', 'se retira', 'sin']\n",
            "['no', 'no', 'no', 'afebril', 'no']\n",
            "['inestabilidad', 'niega', 'no', 'no', 'no', 'sin', 'no', 'no', 'no', 'sin', 'sin', 'no', 'sin', 'se retira', 'no', 'no', 'no', 'no', 'sin', 'sin', 'sin', 'sin', 'no', 'no', 'sin', 'sin', 'no', 'sin', 'sin', 'sin', 'sin', 'sin', 'sin', 'sin', 'sin', 'no', 'sin', 'no', 'sin', 'no', 'no', 'sin', 'sin', 'no', 'sin', 'sin', 'sin', 'no', 'no', 'sin', 'sin', 'sin', 'no', 'sin', 'no', 'sin', 'no', 'irregulares', 'inestabilidad', 'inestabilidad', 'afebril', 'negativo', 'negativos', 'afebril', 'afebril', 'afebril', 'afebril']\n",
            "['nega', 'afebril', 'no', 'no', 'no', 'no', 'no', 'sense', 'no', 'no', 'no', 'no', 'no', 'no', 'no', 'no', 'no', 'no', 'no', 'no', 'sin', 'afebril', 'no', 'no']\n",
            "['no', 'no', 'sin', 'no', 'no', 'sin', 'no', 'no', 'sin', 'sin', 'sin', 'sin', 'sin', 'sin', 'sin', 'no', 'no', 'sin', 'no', 'sin', 'sin', 'sin', 'no', 'no', 'negativos', 'afebril']\n",
            "['no', 'sin', 'no', 'sin', 'sin', 'impide', 'sin', 'sin', 'sin', 'no', 'no', 'no', 'sin', 'niega', 'sin', 'sin', 'no', 'no', 'no', 'sin', 'no', 'no', 'sin', 'sin', 'sense', 'no', 'sin', 'sin', 'no', 'sin', 'sin', 'no', 'negativo', 'negativo', 'negativo', 'negativo', 'negativo']\n",
            "['niega', 'no', 'no', 'no', 'no', 'no', 'no', 'niega', 'sin', 'no', 'no', 'sin', 'sin', 'sin', 'sin', 'sin', 'sin', 'no', 'sin', 'ex', 'afebril']\n",
            "['no', 'no', 'no', 'sin', 'no', 'sin', 'sin', 'no']\n",
            "['no', 'sin', 'no']\n",
            "['no', 'no', 'sin', 'sin', 'no', 'sin', 'niega', 'no', 'no', 'sin', 'sin', 'sin', 'sin']\n",
            "['no', 'sin', 'sin', 'sin', 'negativo', 'sin', 'no', 'negativos', 'no', 'sin', 'sin', 'asintomatica', 'sin', 'sin', 'sin', 'sin', 'sin', 'sin', 'sin', 'sin', 'sin', 'negativa', 'negativo', 'afebril']\n",
            "['no', 'no', 'sin', 'afebril', 'no']\n",
            "['no', 'sin', 'no', 'no', 'no', 'no', 'niega', 'no', 'sin', 'sin', 'no', 'no', 'no', 'no', 'no', 'sin', 'no', 'sin', 'no', 'no', 'no', 'sin', 'no', 'no', 'no', 'no', 'no', 'sin', 'sin', 'sin', 'no', 'sin', 'sin', 'no', 'no', 'no', 'no', 'no', 'no', 'sin', 'sin', 'sin', 'sin', 'no', 'no', 'no', 'asintomatica', 'sin', 'sin', 'descarta', 'descarta', 'sin', 'no', 'negativo', 'afebril', 'afebril']\n",
            "['sin', 'no', 'sin', 'sin', 'sin', 'no', 'imposibilidad de', 'no', 'no', 'sin', 'niega', 'no', 'no', 'sin', 'no', 'no', 'no', 'sin', 'no', 'no', 'sin', 'sin', 'no', 'no', 'no', 'sin', 'asintomatica', 'negativas', 'negativos', 'afebril', 'ex']\n",
            "['sin', 'sin', 'sin', 'sin', 'sin', 'sin', 'no', 'sin', 'no', 'sin', 'sin', 'sin', 'no', 'no', 'sin', 'sin']\n",
            "['no', 'no', 'sense', 'afebril', 'no', 'nega']\n",
            "['no', 'no', 'sin']\n",
            "['no', 'no', 'sin', 'afebril', 'no']\n",
            "['sin', 'no', 'no', 'no', 'no', 'no', 'sin', 'sin', 'sin', 'sin', 'no', 'sin', 'sin', 'sin', 'sin', 'no', 'sin', 'sin', 'no', 'sin', 'sin']\n",
            "['no', 'sin', 'afebril', 'no', 'no', 'sin', 'sense', 'sin', 'no']\n",
            "['no', 'niega', 'niega', 'niega', 'no', 'niega', 'niega', 'no', 'sense', 'no', 'no', 'no', 'no', 'sense', 'no', 'no']\n",
            "['sin', 'no', 'sin', 'no', 'sin', 'niega', 'sin', 'niega', 'niega', 'sin', 'sin', 'no', 'sin', 'no', 'no', 'no', 'sin', 'no', 'no', 'no', 'no', 'sin', 'no', 'sin', 'sin', 'no', 'sin', 'no', 'sin', 'ausencia de', 'sin', 'no', 'sin', 'no', 'sin', 'no', 'sin', 'no', 'sin', 'ausencia de', 'no', 'sin', 'sin', 'sin', 'sin', 'no', 'sin', 'sin', 'no', 'no', 'sense', 'no', 'sense', 'no', 'no', 'no', 'sin', 'sin', 'sin', 'no', 'no', 'afebril', 'no', 'sin', 'no', 'sin', 'negativa', 'no', 'no', 'sin', 'impide', 'no', 'sin', 'no', 'sin', 'no', 'afebril', 'negativa', 'negativo', 'negativa', 'sin', 'negativos', 'sin', 'inespecificos', 'negativas', 'negativas', 'negativas']\n",
            "['no', 'no', 'no', 'no', 'sin', 'no', 'no', 'sin', 'no']\n",
            "['sin', 'no', 'sin', 'no', 'no', 'no', 'no', 'sin']\n",
            "['sin', 'no', 'falta de', 'no', 'no', 'sin', 'sin', 'sin', 'no', 'sin', 'no', 'no', 'no', 'no', 'no', 'no', 'no', 'no', 'no', 'no']\n",
            "['no', 'no', 'sin', 'no', 'sin', 'sin', 'sin', 'sin', 'sin', 'sin', 'sin', 'sin', 'sin', 'sin', 'negativos', 'negativa', 'afebril']\n",
            "['no', 'negativas', 'negativo', 'negativo', 'no', 'no', 'no', 'sin', 'retiro', 'no', 'no', 'no', 'negativo']\n",
            "['sin', 'niega', 'no', 'no', 'no', 'sin', 'no', 'sin', 'sin', 'niega', 'sin', 'niega', 'sin', 'sin', 'niega', 'sin', 'sin', 'no', 'sin', 'no', 'sin', 'no', 'sin', 'sin', 'sin', 'no', 'no', 'no', 'no', 'no', 'no', 'sin', 'no', 'no', 'sin', 'descarta', 'sin', 'negativos', 'inespecifico', 'afebril']\n",
            "['sin', 'sin', 'niega', 'sin', 'afebril', 'sin', 'ausencia de', 'no', 'no']\n",
            "['no', 'no', 'sin', 'sin', 'no', 'no', 'niega', 'niega', 'afebril', 'sin', 'no', 'no', 'sin', 'sin', 'no', 'no', 'no', 'no', 'no', 'sin', 'sin', 'sin', 'asintomatica', 'sin', 'sin']\n",
            "['sin', 'no', 'no', 'no', 'sin', 'no', 'sin', 'no', 'sin', 'no', 'afebril']\n",
            "['no', 'sin', 'sin', 'sin', 'no', 'no', 'no', 'no', 'no', 'no', 'sense', 'sense', 'sense', 'no', 'no', 'no', 'sense', 'sense', 'sense', 'sense', 'sense', 'sense', 'sense']\n",
            "['sin', 'niega', 'no', 'sin', 'no', 'no', 'sin', 'negativa', 'no', 'sin', 'sin', 'niega', 'no', 'no', 'no', 'no', 'no', 'no', 'no', 'afebril', 'sin', 'no', 'no', 'no', 'no', 'no', 'no', 'no', 'no', 'no', 'sin', 'no', 'afebril', 'sin', 'no', 'afebril', 'asintomatico', 'no', 'sin']\n",
            "['sin', 'niega', 'sin', 'sin', 'descartada', 'sin', 'no', 'sin', 'no', 'sin', 'no', 'sin', 'no', 'no', 'sin', 'sin', 'sin', 'sin', 'no', 'negativo', 'sin', 'sin', 'no', 'descarta', 'afebril', 'no', 'sin', 'negativo', 'sin', 'afebril', 'afebril']\n",
            "['no', 'sin', 'sin', 'no', 'sin', 'no', 'negatividad de', 'ceden', 'no', 'no', 'no', 'no', 'no', 'sin', 'no', 'no', 'no', 'no', 'sin', 'negativo', 'negatividad de', 'no', 'no', 'negativos', 'afebril']\n",
            "['no', 'sin', 'no', 'sin', 'sin', 'no', 'sin', 'excepto', 'no', 'no', 'sin', 'nega']\n",
            "['no', 'sin', 'sin', 'no']\n",
            "['sin', 'no', 'sin', 'no', 'no', 'no', 'no', 'no', 'no', 'no', 'no', 'no', 'sin', 'afebril', 'negativo', 'sin', 'negativo', 'negativos']\n",
            "['sin', 'ausencia de', 'ausencia de', 'ausencia de', 'sin', 'sin', 'ausencia de', 'sin', 'sin', 'no', 'negativos', 'negativos']\n",
            "['sin', 'niega', 'sin', 'sin', 'no', 'no', 'sin', 'sin', 'no', 'no', 'no', 'no', 'sin', 'sin', 'no', 'no', 'sin', 'sin', 'sin', 'no', 'sin', 'no', 'sin', 'sin', 'no', 'sin', 'sin', 'sin', 'sin', 'sin', 'ausencia de', 'no', 'sin', 'no', 'afebril', 'afebril']\n",
            "['no', 'no', 'no', 'sin', 'no', 'no']\n",
            "['no', 'no', 'no', 'no', 'no', 'no', 'no', 'sin', 'niega', 'no', 'niega', 'desorientado', 'no', 'niega', 'no', 'no', 'no', 'sin', 'no', 'no', 'no', 'sense', 'no']\n",
            "['sin', 'no', 'sin', 'no', 'no', 'niega', 'niega', 'sin', 'sin', 'sin', 'no', 'no', 'no', 'sin', 'sin', 'sin', 'sin', 'sin', 'no', 'sin', 'sin', 'sin', 'no', 'sin', 'sin', 'ausencia de', 'afebril', 'sin', 'no', 'ausencia', 'sin', 'no', 'ausencia de', 'ausencia de', 'no', 'sin', 'sin']\n",
            "['no', 'sin', 'no']\n",
            "['sin', 'no', 'no', 'no', 'sin', 'afebril', 'no', 'no', 'no', 'no', 'no', 'no', 'no', 'no', 'no', 'no', 'no', 'no', 'no', 'no', 'no', 'sense']\n",
            "['no', 'no', 'sin', 'no', 'sin', 'sin', 'sin', 'no', 'no', 'no', 'no', 'sin', 'no', 'sin', 'sin', 'no', 'no', 'no', 'negativo', 'afebril']\n",
            "['niega', 'no', 'afebril', 'no', 'no']\n",
            "['negativo', 'descartada', 'negativa', 'no', 'no', 'no', 'no', 'inespecifico', 'no', 'no', 'sin', 'sin', 'sin', 'sin', 'sin', 'negativos', 'sin', 'negativo', 'no', 'no', 'no', 'sin', 'no', 'no', 'no', 'no']\n",
            "['no', 'sin', 'no', 'no', 'no', 'no', 'no', 'no', 'no', 'no', 'no', 'sin', 'sin', 'impide', 'sin', 'sin', 'no', 'no', 'no', 'no', 'sin', 'afebril', 'sin']\n",
            "['no', 'no', 'negativo', 'no', 'no', 'neg', 'neg', 'neg', 'neg', 'neg', 'no', 'sin', 'no', 'sin']\n",
            "['no', 'no', 'no', 'sin', 'no', 'no', 'no', 'no', 'no', 'no', 'sin', 'no', 'no', 'negativa', 'negativo', 'afebril']\n",
            "['no', 'sin', 'sin', 'ausencia de', 'afebril', 'sin', 'sin', 'no', 'sin']\n",
            "['sin', 'no', 'no', 'ausencia de', 'ausencia de', 'ausencia de', 'sin', 'sin', 'no', 'retiro', 'sin', 'sin', 'niega', 'niega', 'niega', 'niega', 'no', 'no', 'sin', 'sin', 'sin', 'sin', 'no', 'no', 'sin', 'sin', 'negativo', 'negativo', 'negativos', 'no', 'no', 'no', 'no', 'sin', 'sin', 'no', 'no', 'sin', 'no', 'sin', 'sin', 'no', 'sin', 'sin', 'sin', 'sin', 'no', 'descarta', 'no', 'negativo', 'descarta', 'negativos', 'sin', 'se suspende', 'afebril', 'sin', 'no', 'no']\n",
            "['no', 'no', 'no', 'sin', 'no', 'no', 'sin', 'no', 'no', 'ex', 'afebril']\n",
            "['sin', 'no', 'sin', 'sin', 'no', 'niega', 'niega', 'niega', 'no', 'no', 'no', 'no', 'no', 'sin', 'ausencia de', 'sin', 'sin', 'sin', 'no', 'no', 'ausencia de', 'no', 'ausencia de', 'sin', 'sin', 'sin', 'ausencia de', 'sin', 'ausencia de', 'no', 'sin', 'no', 'sin', 'sin', 'sin', 'no', 'sin', 'sin', 'sin', 'negativos', 'sin', 'sin', 'no', 'sin', 'sin', 'sin', 'sin', 'sin', 'no', 'niega', 'ausencia de', 'negatividad', 'ex', 'sin', 'negativos', 'asintomatico', 'negativo', 'negativo', 'negativo', 'negativo', 'negativo', 'negativo', 'afebril', 'afebril', 'negativo']\n",
            "['no', 'no', 'no', 'no', 'no', 'no', 'no', 'no', 'sin', 'sin', 'sin', 'sin', 'no', 'negativo', 'niega', 'negativas', 'negativos', 'negativo']\n",
            "['no', 'no', 'niega', 'no', 'no', 'no', 'no', 'no', 'no', 'sin', 'no', 'no', 'sin', 'sin', 'sin', 'afebril']\n",
            "['sin', 'sin', 'no', 'no', 'sin', 'niega', 'niega', 'no', 'niega', 'sin', 'sin', 'sin', 'no', 'afebril', 'sin', 'sin', 'sin', 'sin', 'sin', 'no', 'no', 'no', 'sin', 'no', 'no', 'no', 'no', 'afebril', 'sin', 'desorientacion', 'no', 'sin', 'no', 'afebril', 'sin', 'ausencia de']\n",
            "['no', 'no', 'sin', 'afebril', 'no']\n",
            "['no', 'sin', 'sin', 'afebril']\n",
            "['no', 'no', 'no', 'sin', 'no', 'sin', 'no', 'sin', 'no', 'sin', 'sin', 'no', 'sin', 'sin', 'no', 'no', 'sin', 'no', 'no', 'no', 'sin', 'sin', 'sin', 'sin', 'sin', 'sin', 'sin', 'no', 'sin', 'no', 'sin', 'sin', 'no', 'afebril', 'no']\n",
            "['no', 'no', 'sin', 'sin', 'sin', 'sin', 'no', 'sin', 'sin', 'sin', 'sin', 'sin', 'sin', 'sin', 'sin', 'no', 'negativo', 'negativo', 'negativo', 'negativo', 'sin', 'sense']\n",
            "['no', 'no', 'no', 'no', 'no', 'no', 'sin', 'negativas', 'negativo', 'negativo', 'no', 'no', 'no', 'no', 'no', 'no', 'no', 'no', 'no', 'no', 'niega', 'negativo', 'no']\n",
            "['no', 'no', 'no', 'no', 'sin', 'no', 'no', 'ausencia de', 'sin', 'sin', 'no', 'no', 'no', 'no', 'sin', 'sin', 'sin', 'no', 'afebril', 'asintomatico']\n",
            "['no', 'no', 'sin', 'no', 'negativo', 'no', 'no', 'no', 'negativo', 'negativo']\n",
            "['no', 'sin', 'sin', 'no', 'sin', 'sin', 'sin', 'sin', 'sin', 'sin', 'sin', 'sin', 'no', 'no', 'no', 'no', 'no', 'sin', 'no', 'no', 'sin', 'sin', 'no', 'no', 'afebril']\n",
            "['sin', 'sin', 'sin', 'afebril']\n",
            "['no', 'no', 'niega', 'no', 'no', 'no', 'negativo', 'negativo', 'no', 'no', 'sin', 'no', 'no', 'no', 'no', 'no', 'negativos', 'negativo', 'negativo', 'negativo', 'negativo']\n",
            "['sin', 'sin', 'sin', 'afebril']\n",
            "['no', 'no', 'sin', 'afebril', 'no']\n",
            "['sin', 'no', 'afebril', 'sin', 'no']\n",
            "['no', 'sin', 'afebril']\n",
            "['sin', 'no', 'niega', 'afebril', 'imposibilidad']\n",
            "['no', 'no', 'no', 'ausencia de', 'afebril', 'no', 'no', 'sin', 'sin', 'sin', 'no', 'sin', 'sin', 'no', 'sin', 'sin', 'sin', 'inespecifico', 'negativo']\n",
            "['sin', 'sin', 'sin', 'afebril']\n",
            "['niega', 'sin', 'sin', 'sin', 'no', 'afebril']\n",
            "['no', 'no', 'no', 'no', 'no', 'no', 'sin', 'no', 'no', 'sin', 'sin', 'no', 'sin', 'sin', 'afebril', 'negativos', 'negativa', 'afebril']\n",
            "['no', 'no', 'no', 'sin', 'afebril']\n",
            "['no', 'sin', 'negativos', 'afebril', 'sin', 'afebril', 'sin', 'no']\n",
            "['no', 'no', 'no', 'no', 'sin', 'no', 'no', 'no', 'sin', 'negativo', 'negativos', 'negativo', 'negativo']\n",
            "['sin', 'sin', 'no', 'no', 'sin', 'no', 'no', 'no', 'sin', 'no', 'no', 'sin', 'sin']\n",
            "['no', 'no', 'no', 'no', 'sin', 'sin', 'sin', 'no', 'negativos', 'negativo', 'sense']\n",
            "['no', 'afebril', 'sense', 'sense']\n",
            "['no', 'sin', 'negativas', 'negativo', 'no', 'no', 'no', 'no', 'sin', 'no', 'no', 'no', 'no', 'no', 'no', 'no', 'no', 'no', 'no', 'niega', 'no', 'no']\n",
            "['no', 'sin', 'no', 'sin', 'no', 'no', 'no', 'no', 'no', 'no', 'sin', 'no', 'no', 'sin', 'no', 'no', 'no', 'negativo', 'negativos', 'negativo', 'negativo', 'negativo']\n",
            "['sin', 'no', 'no', 'no', 'negativos', 'sin', 'sin', 'sin', 'afebril', 'sin', 'sin', 'no', 'no']\n",
            "['no', 'sin', 'sin', 'sin', 'afebril']\n",
            "['no', 'sin', 'no', 'no', 'sin', 'no', 'negativa', 'sin', 'sin', 'sin', 'sin', 'no', 'niega', 'sin', 'no', 'no', 'no', 'sin', 'no', 'no', 'sin', 'sin', 'sin', 'sin']\n",
            "['sin', 'sin', 'sin', 'sin', 'no', 'no', 'no', 'sin', 'no', 'no', 'no', 'no', 'sin', 'afebril', 'negativas', 'sin', 'sin', 'sin', 'negativos', 'sin', 'sin']\n",
            "['sin', 'no', 'no', 'no', 'no', 'no', 'sin', 'sin', 'sin', 'no', 'sin', 'sin', 'sin', 'sin', 'sin', 'sin']\n",
            "['no', 'niega', 'no', 'negativo', 'no', 'negativas', 'negativo', 'negativo', 'no', 'no', 'no', 'sin', ' negativo']\n",
            "['sin', 'sin', 'sin', 'sin', 'afebril']\n",
            "['no', 'sin', 'no', 'no', 'sin', 'no', 'no', 'sin', 'sin', 'no', 'no', 'negativos']\n",
            "['no', 'sin', 'sin', 'no']\n",
            "['sin', 'sin', 'afebril', 'sin', 'no']\n",
            "['niega', 'sin', 'no', 'sin', 'sin', 'sin', 'no', 'afebril']\n",
            "['sin', 'no', 'sin', 'afebril']\n",
            "['niega', 'niega', 'sin', 'no', 'no', 'no', 'no', 'sin', 'no', 'sin', 'no', 'no', 'no', 'sin', 'sin', 'sin', 'sin', 'excepto', 'no', 'no', 'afebril']\n",
            "['no', 'sin', 'no']\n",
            "['negativo', 'negativo', 'sin', 'sin', 'no', 'sin', 'sin', 'no', 'sin', 'no', 'sin', 'no', 'no', 'negativo']\n",
            "['no', 'ausencia de', 'no', 'niegan', 'afebril', 'no', 'no', 'sin', 'no', 'no', 'no', 'afebril', 'sin', 'no', 'rechaza']\n",
            "['niega', 'exfumador', 'negativo', 'no', 'no', 'no', 'negativo', 'no', 'no', 'sin', 'sin', 'sin', 'no', 'no', 'no', 'no', 'no', 'no', 'no', 'sin', 'sin', 'sin', 'sin', 'sin', 'e no']\n",
            "['sin', 'sin', 'no', 'sin', 'sin', 'sin', 'sin', 'sin', 'no', 'no', 'sin', 'sin', 'se retira', 'no', 'negativa', 'negativa', 'afebril']\n",
            "['no', 'no', 'no', 'sin', 'sin', 'no', 'sin', 'sin', 'sin']\n",
            "['no', 'no', 'niega', 'no', 'no', 'negativo', 'negativo', 'no', 'negativos']\n",
            "['no', 'no', 'no', 'no', 'no', 'no', 'sin', 'no']\n",
            "['no', 'afebril', 'no', 'no']\n",
            "['no', 'afebril', 'sin', 'sin', 'sin', 'no', 'no', 'afebril']\n",
            "['no', 'no', 'no', 'negativo', 'sin', 'no', 'no', 'negativos', 'negativo', 'no', 'sin', 'no', 'sin']\n",
            "['sin', 'no', 'no', 'no', 'sin', 'sin', 'no', 'no', 'no', 'no', 'niega', 'sin', 'sin', 'no', 'sin', 'sin', 'sin', 'afebril', 'no', 'sin', 'no', 'no', 'no', 'negativos', 'no', 'no', 'sin', 'sin', 'sin', 'no', 'sin', 'no', 'sin', 'ausencia de', 'no', 'no', 'sin', 'no', 'negativo', 'afebril', 'ninguno', 'negativos', 'sin']\n",
            "['sin', 'sin', 'sin', 'sin', 'sin', 'no', 'no', 'negativo', 'afebril']\n",
            "['no', 'sin', 'no', 'negativo', 'negativos']\n",
            "['sin', 'sin', 'sin', 'niega', 'no', 'no', 'no', 'no', 'sin', 'sin', 'no', 'sin', 'no', 'negativa', 'sin', 'no', 'no', 'no', 'sin', 'sin', 'no']\n",
            "['no', 'no', 'sin', 'sin', 'no', 'no', 'no', 'no', 'sin', 'no', 'sin', 'sin', 'no', 'no', 'sin', 'no', 'sin', 'sin', 'negativos', 'negativo', 'cede', 'negativas', 'afebril', 'no', 'no', 'negativos', 'negativos', 'negativas', 'negativo', 'negativos']\n",
            "['no', 'no', 'sin', 'afebril', 'no', 'no']\n",
            "['no', 'sin', 'sin', 'negativo', 'no', 'no', 'sin', 'sin', 'falta de', 'sense', 'no', 'no', 'ex']\n",
            "['sin', 'negativa', 'sin', 'no', 'sin', 'sin', 'no', 'no', 'sin', 'no', 'no', 'no', 'sin', 'no', 'no', 'ausencia de', 'negativos', 'sin', 'afebril']\n",
            "['niega', 'niega', 'no', 'sin', 'no', 'sin', 'no', 'no']\n",
            "['no', 'no', 'sin', 'inespecificos', 'inespecifico', 'no', 'sin', 'sin', 'sin', 'sin', 'no', 'ausencia de', 'sin', 'no', 'no', 'no', 'ausencia de', 'ausencia de', 'sin', 'sin', 'afebril', 'sin', 'no', 'no', 'no', 'no', 'no', 'no', 'sin']\n",
            "['sin', 'no', 'no', 'no', 'no', 'sin', 'no', 'no', 'no', 'no', 'no', 'no', 'sin', 'negativa']\n",
            "['no', 'no', 'sin']\n",
            "['niega', 'niega', 'sin', 'sin', 'no', 'no', 'niega', 'no', 'niega', 'no', 'no', 'no', 'no', 'no', 'no', 'sin', 'no', 'no', 'no', 'no', 'no', 'sin', 'no', 'no', 'no', 'sin', 'no', 'negativo', 'sin', 'ex', 'negativo', 'afebril']\n",
            "['sin', 'falta de', 'sin', 'sin', 'no', 'sin', 'no', 'no', 'sin', 'sin', 'sin', 'no', 'sin', 'no', 'sin', 'sin', 'sin', 'sin', 'afebril', 'no', 'afebril', 'negativa']\n",
            "['no', 'no', 'sin', 'sin', 'sin', 'sin']\n",
            "['no', 'sin', 'sin', 'sense']\n",
            "['no', 'sin', 'sin', 'sin', 'no', 'no', 'no', 'no', 'no', 'no', 'sin', 'sin', 'no', 'sin', 'sin', 'no', 'no', 'no', 'no', 'no', 'no', 'sin', 'sin', 'sin', 'no', 'no', 'sin', 'no', 'sin', 'no', 'sin', 'sin', 'afebril', 'afebril']\n",
            "['no', 'no', 'niega', 'negativo', 'no', 'no', 'no', 'no', 'negativos', 'negativo']\n",
            "['sin', 'niega', 'sin', 'sin', 'afebril', 'no']\n",
            "['sin', 'no', 'no', 'afebril', 'no', 'sin', 'no', 'sin', 'afebril', 'no', 'negativo']\n",
            "['no', 'no', 'niega', 'no', 'no', 'negativo', 'negativo', 'no', 'no', 'no', 'sin', 'en ninguna', 'sin', 'desaparecen', 'sin', 'sin', 'negativo', 'negativo', 'no']\n",
            "['no', 'no', 'no', 'no', 'no', 'no', 'sin', 'sin', 'sin', 'sin', 'sin', 'no', 'no', 'no', 'no', 'no', 'ausencia de', 'sense', 'no', 'falta de', 'negativo', 'no', 'no', 'no', 'no', 'no', 'no', 'no', 'no', 'no', 'no', 'sin', 'niega', 'ausencia de', 'no', 'no', 'sin', 'sin', 'sin', 'sin', 'sin', 'no', 'negativa', 'negativo', 'negativo']\n",
            "['sin', 'sin', 'sin', 'negativas', 'afebril']\n",
            "['no', 'no', 'sin', 'niega', 'afebril', 'no', 'no', 'no', 'no', 'no', 'no', 'no', 'no', 'sin', 'no', 'no', 'no', 'sin', 'sin', 'afebril']\n",
            "['no', 'no', 'no', 'no', 'no', 'no', 'sin', 'no', 'no', 'sin', 'sin', 'no', 'ausencia de', 'no', 'sin', 'sense', 'sense', 'negativa', 'no', 'sense']\n",
            "['no', 'no', 'niega', 'no', 'no', 'ausencia de', 'no', 'no', 'no', 'no', 'no', 'no', 'ausencia de', 'sin', 'negativo', 'no', 'no', 'negativo', 'no', 'no', 'no', 'no', 'sin', 'no', 'sin', 'no', 'afebril', 'negativas', 'negativos', 'negativo', 'negativo', 'negativo']\n",
            "['no', 'no', 'no', 'sin', 'no', 'no', 'no', 'no', 'sin', 'negativos', 'negativo', 'negativo', 'no', 'negativo', 'negativo', 'no', 'no', 'no', 'no', 'negativo', 'negativo']\n",
            "['no', 'sin', 'no', 'no', 'no', 'sin', 'sin', 'no', 'no', 'no', 'no', 'sin', 'no', 'sin', 'ausencia de', 'no', 'ausencia de', 'sin', 'afebril', 'ausencia de', 'negativa', 'afebril', 'negativo', 'negativas', 'asintomatico']\n",
            "['no', 'niega', 'no', 'no', 'negativo', 'sin', 'negativas', 'negativo', 'negativo', 'no', 'no', 'no', 'negativo', 'no', 'sin', 'no', 'no', 'no', 'no', 'no', 'no']\n",
            "['sin', 'no', 'no', 'asintomatica', 'no', 'no', 'no', 'no', 'no', 'no', 'no', 'no', 'no', 'afebril', 'negativas', 'negativos', 'negativo', 'negativo', 'negativo', 'negativa']\n",
            "['no', 'sin', 'sin', 'afebril', 'sin', 'no', 'no']\n",
            "['no', 'no', 'no']\n",
            "['no', 'sin']\n",
            "['niega', 'sin', 'negativa', 'sin', 'sin', 'no', 'sin', 'sin', 'no', 'no', 'sin', 'no', 'no', 'sin', 'sin', 'sin', 'sin', 'sin', 'no', 'sin', 'sin', 'sin', 'afebril', 'retirar', 'afebril', 'no', 'desaparicion del', 'sin', 'ausencia de']\n",
            "['no', 'afebril', 'sin', 'no', 'sin']\n",
            "['no', 'sin', 'sin', 'sin', 'afebril', 'sin', 'no', 'sense']\n",
            "['sin', 'sin', 'sin', 'niegan', 'no', 'no', 'no', 'no', 'no', 'no', 'sin', 'no', 'no', 'no', 'no', 'sin', 'retirar', 'sin', 'no', 'no', 'sin', 'negativo', 'negativos', 'negativo']\n",
            "['no', 'exfumador', 'sin', 'no', 'no']\n",
            "['no', 'no', 'no', 'negativo', 'no', 'sin', 'negativos']\n",
            "['no', 'no', 'no', 'no', 'sin', 'sin', 'no', 'no', 'sin', 'no', 'no', 'sin', 'sin', 'falta de', 'sin', 'negativos', 'afebril', 'sin']\n",
            "['sin', 'no', 'no', 'sense', 'no', 'no', 'no', 'no', 'sin', 'sin', 'afebril']\n",
            "['no', 'no', 'no', 'no', 'sin', 'sin', 'sin', 'asintomatico']\n",
            "['niega', 'niega', 'sin', 'no', 'no', 'sin', 'no', 'no', 'niega', 'sin', 'sin', 'sin', 'no', 'sin', 'sin', 'sin', 'sin', 'no', 'sin', 'sin', 'sin', 'sin', 'no', 'sin', 'no', 'no', 'no', 'no', 'sin', 'sin', 'sin', 'arritmicos', 'negativa', 'inespecifico', 'negativos']\n",
            "['no', 'asintomatica', 'sin', 'no', 'sin', 'ausencia', 'no', 'niega', 'sin', 'no', 'no', 'sin', 'sin', 'sin', 'negativa', 'no', 'no', 'inespecifico', 'negativa', 'afebril', 'sin', 'sin', 'afebril', 'sin']\n",
            "['sin', 'sin', 'negativos', 'negativo', 'niega', 'niega', 'no', 'afebril', 'no', 'no', 'no', 'sin', 'no', 'no', 'no', 'negativo', 'afebril', 'desaparicion de', 'negativo']\n",
            "['sin', 'no', 'no', 'no', 'no', 'sin', 'sin', 'no', 'sin', 'no', 'no', 'sin', 'no', 'no', 'sin', 'no', 'no', 'no', 'sin', 'no', 'no', 'no', 'no', 'negativa', 'negativo', 'negativos', 'sin', 'sin', 'no', 'no', 'sin', 'afebril', 'sin', 'sin', 'negativos']\n",
            "['niega', 'niega', 'no', 'sin', 'sin', 'afebril']\n",
            "['no', 'sin', 'no', 'niega', 'niega', 'niega', 'no', 'sin', 'no', 'no', 'sin', 'afebril', 'no', 'ausencia de', 'sin', 'no', 'sin', 'sin', 'no', 'no', 'no', 'no', 'no', 'sin', 'sin', 'negativo', 'negativos', 'no', 'afebril', 'no', 'afebril', 'afebril']\n",
            "['sin', 'sin', 'sin', 'no', 'no', 'negativa', 'negativo', 'no', 'sin', 'sin', 'niega', 'niega', 'sin', 'sin', 'sin', 'sin', 'no', 'no', 'sin', 'no', 'no', 'no', 'no', 'sin', 'no', 'no', 'no', 'no', 'sin', 'sin', 'sin', 'no', 'no', 'no', 'sin', 'negativa', 'no', 'sin', 'afebril', 'asintomatico', 'no']\n",
            "['no', 'no', 'sin', 'no', 'no', 'no', 'no', 'no', 'no', 'no', 'no', 'niega', 'atipicos', 'negativos']\n",
            "['sin', 'sin', 'sin', 'afebril']\n",
            "['sin', 'sin', 'sin', 'afebril']\n",
            "['niega', 'sin', 'sin', 'no', 'no', 'no', 'no', 'no', 'afebril', 'sin', 'sense']\n",
            "['no', 'no', 'no', 'no', 'no', 'no', 'sin', 'no', 'no', 'no', 'no', 'no', 'sin', 'negativo', 'negativos', 'negativo']\n",
            "['sin', 'no', 'sin', 'sin', 'no', 'sin', 'sin', 'no', 'no', 'negativo', 'negativo', 'negativo', 'sin', 'negatividad del', 'afebril', 'no', 'no', 'no', 'afebril', 'asintomatico']\n",
            "['sin', 'no', 'no', 'sin', 'no', 'sin', 'no', 'sin', 'sin', 'no', 'no', 'sin', 'sin', 'sin', 'no', 'no', 'no', 'no', 'no', 'sin', 'sin', 'negativos', 'negativos', 'sin', 'sin', 'no', 'ausencia de', 'afebril', 'sin', 'sin', 'no', 'sin', 'sin', 'sin', 'sin', 'no']\n",
            "['no', 'sin', 'negativos', 'sin', 'sin', 'no', 'sense']\n",
            "['no', 'no', 'niega', 'no', 'no', 'neg', 'neg', 'no', 'no', 'sin', 'no', 'no', 'negativos']\n",
            "['sin', 'sin', 'no', 'sin', 'sin', 'no', 'negativo', 'no', 'afebril']\n",
            "['no', 'no', 'niega', 'no', 'no', 'negativos', 'negativo', 'no', 'sin', 'no', 'sin', 'no', 'negativo']\n",
            "['no', 'sin', 'no']\n",
            "['no', 'no', 'sin', 'no', 'no', 'no', 'no', 'no', 'no', 'no', 'no', 'no', 'sin', 'no', 'sin', 'no', 'no', 'no', 'sin', 'sin', 'sin', 'no', 'sin', 'sin', 'afebril', 'no', 'no', 'negativo', 'negativo', 'negativo']\n",
            "['sin', 'sin', 'sin', 'sin', 'sin', 'niega', 'sin', 'sin', 'no', 'no', 'no', 'no', 'sin', 'sin', 'no', 'sin', 'no', 'no', 'sin', 'sin', 'sin', 'no', 'no', 'negativos', ' afebril']\n",
            "['no', 'no', 'niega', 'no', 'niega', 'no', 'no', 'no', 'niega', 'negativo', 'no', 'no', 'ausencia de', 'no', 'no', 'no', 'no', 'no', 'no', 'niega']\n",
            "['no', 'no', 'sin', 'afebril', 'no']\n",
            "['sin', 'sin', 'sin', 'neg', 'no', 'sin', 'niega', 'sin', 'sin', 'sin', 'niega', 'asintomatica', 'afebril', 'sin', 'sin', 'sin', 'sin', 'sin', 'sin', 'no', 'no', 'ausencia de', 'sin', 'sin', 'sin', 'sin', 'sin', 'sin', 'sin', 'sin']\n",
            "['no', 'no', 'niega', 'no', 'no', 'negativos', 'negativo', 'no', 'sin', 'sin', 'no', 'no', 'negativo']\n",
            "['no', 'no', 'sin', 'sin', 'sin', 'niega', 'no', 'afebril', 'sin', 'sin', 'sin', 'sin', 'no', 'sin', 'no', 'sin', 'sin', 'no', 'negativos', 'afebril', 'no', 'sin', 'tampoco', 'negativos', 'no', 'sin', 'niega', 'sin']\n",
            "['no', 'no', 'niega', 'sin', 'no', 'no', 'negativo', 'no', 'sin', 'no', 'sin', 'retiro', 'no', 'no', 'no', 'negativos']\n",
            "['negativo', 'afebril', 'negativo']\n",
            "['sin', 'niega', 'sin', 'sin', 'no', 'no', 'sin', 'no', 'no', 'no', 'sin', 'no', 'no', 'sin', 'no', 'no', 'no', 'no', 'negativos', 'sin', 'no', 'negativas', 'negativo', 'negativo', 'afebril', 'negativos', 'negativos']\n",
            "['no', 'no', 'sin', 'afebril', 'no', 'ex']\n",
            "['negativas', 'sin', 'sin', 'sin', 'sin']\n",
            "['no', 'no', 'sin', 'negativo', 'no', 'niega', 'sin', 'no', 'sin', 'no', 'no', 'no', 'sin', 'no', 'no', 'afebril', 'sin', 'sin', 'no', 'no', 'negativo', 'afebril', 'no', 'no', 'sin']\n",
            "['no', 'no', 'niega', 'no', 'no', 'no', 'no', 'no', 'neg', 'neg', 'neg', 'negativas', 'no', 'sin', 'no', 'sin', 'no', 'no', 'no', 'no', 'asintomatica', 'sin', 'negativos', 'negativo', 'negativo', 'no', 'no', 'no', 'neg', 'neg']\n",
            "['sin', 'no', 'sin', 'sin', 'negativa', 'no', 'no', 'sin', 'sin', 'sin', 'sin', 'sin', 'sin', 'sin', 'no', 'no', 'no', 'negativo', 'negativos', 'desaparicion de', 'no', 'sin', 'negatiu', 'negatiu', 'negatiu']\n",
            "['sin', 'afebril', 'sin']\n",
            "['no', 'no', 'no', 'no', 'no', 'negativos', 'negativo', 'negativo', 'no', 'sin']\n",
            "['no', 'sin', 'afebril', 'no', 'no', 'sin', 'no', 'no', 'no', 'no', 'sin', 'afebril']\n",
            "['niega', 'incapacidad para', 'sin', 'sin', 'no', 'no', 'sin', 'sin', 'no', 'sin', 'sin', 'no', 'sin', 'sin', 'sin', 'no', 'sin', 'ausencia de', 'ausencia de', 'incapacidad para', 'afebril', 'sin', 'niega', 'negativa', 'negativo', 'negativo', 'negativos']\n",
            "['no', 'sense', 'no', 'no', 'sense', 'no', 'no', 'no', 'afebril']\n",
            "['no', 'sin', 'no', 'no', 'no', 'no', 'afebril', 'negativa', 'sin', 'sin', 'inespecifico', 'sin', 'sin', 'sin', 'afebril', 'no', 'sin', 'sense', 'sense']\n",
            "['no', 'no', 'no', 'no', 'sin', 'no', 'sin', 'no', 'no', 'no', 'sin', 'sin', 'negativo', 'negativa', 'negativo', 'sin', 'negativo', 'sin', 'afebril', 'negativa', 'negativo']\n"
          ]
        }
      ],
      "source": [
        "NEG = set()\n",
        "UNC = set()\n",
        "NSCO = set()\n",
        "USCO = set()\n",
        "\n",
        "num_nsco = 0\n",
        "num_usco = 0\n",
        "for document in training_set:\n",
        "  neg_words, unc_words, nsco_words, usco_words = find_cues_and_scopes(document)\n",
        "  nsco_words_set = set(nsco_words)\n",
        "  usco_words_set = set(usco_words)\n",
        "  num_nsco += len(nsco_words)\n",
        "  num_usco += len(usco_words)\n",
        "\n",
        "  NEG.update(neg_words)\n",
        "  UNC.update(unc_words)\n",
        "  NSCO.update(nsco_words)\n",
        "  USCO.update(usco_words)\n",
        "\n",
        "# Removing spaces and punctation signs from the start and end of each string\n",
        "NEG = {word.strip(\" ,.!?;)\") for word in NEG}\n",
        "UNC = {word.strip(\" ,.!?);\") for word in UNC}\n",
        "NSCO = {word.strip(\" ,.!?;)\") for word in NSCO}\n",
        "USCO = {word.strip(\" ,.!?);\") for word in USCO}\n",
        "\n",
        "# Remove negation from UNC\n",
        "for word in NEG:\n",
        "  if word in UNC:\n",
        "    UNC.remove(word)"
      ]
    },
    {
      "cell_type": "markdown",
      "metadata": {
        "id": "GjomeTlu8oHN"
      },
      "source": [
        "Combine USCO and NSCO in SCOPE_words"
      ]
    },
    {
      "cell_type": "code",
      "execution_count": 14,
      "metadata": {
        "colab": {
          "base_uri": "https://localhost:8080/"
        },
        "id": "Gtv4WScpWxrl",
        "outputId": "46d62401-10c1-47ab-f3dd-30b7fd71905d"
      },
      "outputs": [
        {
          "name": "stdout",
          "output_type": "stream",
          "text": [
            "NEG_UNC words before processing:  3184\n"
          ]
        }
      ],
      "source": [
        "ALL_SCOPES = NSCO.union(USCO)\n",
        "\n",
        "# A set with all individual words from the scopes\n",
        "SCOPE_words = set()         # ['erc', '(29/05/18)', 'ser', 'visibles', 'extratono', 'inicia', 'valor', 'frialdad', 'medicamentoses', 'neoformativo']\n",
        "for scope in ALL_SCOPES:\n",
        "  SCOPE_words.update(scope.split())\n",
        "\n",
        "print(\"NEG_UNC words before processing: \", len(SCOPE_words))\n",
        "\n",
        "# Remove all symbols and numbers from the set\n",
        "SCOPE_words = {word for word in SCOPE_words if word.isalpha()}\n",
        "SCOPE_words = list(SCOPE_words)"
      ]
    },
    {
      "cell_type": "markdown",
      "metadata": {
        "id": "28sA1kjp9D76"
      },
      "source": [
        "Combine SCOPE_words with extracted_terms from CUTEXT"
      ]
    },
    {
      "cell_type": "code",
      "execution_count": 15,
      "metadata": {
        "id": "cTOnXwCaYtMx"
      },
      "outputs": [],
      "source": [
        "extracted_terms = list(set(cutext_terms+SCOPE_words))"
      ]
    },
    {
      "cell_type": "code",
      "execution_count": 16,
      "metadata": {
        "colab": {
          "base_uri": "https://localhost:8080/"
        },
        "id": "aKDyK0dRY929",
        "outputId": "9b8e8cfd-e3b9-4a0d-a4a9-827fe4c173e3"
      },
      "outputs": [
        {
          "name": "stdout",
          "output_type": "stream",
          "text": [
            "19948\n"
          ]
        }
      ],
      "source": [
        "print(len(extracted_terms))\n"
      ]
    },
    {
      "cell_type": "code",
      "execution_count": 17,
      "metadata": {
        "id": "_vplFWHbEprg"
      },
      "outputs": [],
      "source": [
        "extracted_terms.sort(key=len,reverse=True)"
      ]
    },
    {
      "cell_type": "markdown",
      "metadata": {
        "id": "MeXd2xOB_OOE"
      },
      "source": [
        "Prepare REGEX"
      ]
    },
    {
      "cell_type": "code",
      "execution_count": 18,
      "metadata": {
        "id": "TIKVWGYf3fv1"
      },
      "outputs": [],
      "source": [
        "NEG_pattern = \"|\".join(NEG)\n",
        "UNC_pattern = \"|\".join(UNC)\n",
        "#SCOPE pattern with CUTEXT + NSCO+USCO\n",
        "SCOPE_pattern = \"|\".join(extracted_terms)"
      ]
    },
    {
      "cell_type": "code",
      "execution_count": 19,
      "metadata": {
        "id": "cxmKcN5VCYZk"
      },
      "outputs": [],
      "source": [
        "#SCOPE pattern just for CUTEXT\n",
        "SCOPE_pattern_CUTEXT = \"|\".join(cutext_terms)"
      ]
    },
    {
      "cell_type": "code",
      "execution_count": 20,
      "metadata": {
        "id": "PgvAtD98vpxh"
      },
      "outputs": [],
      "source": [
        "regex_neg_pre=rf\"\\b({NEG_pattern})\\b\\s\\w*\\s*\\w*\\s*\\w*\\s*\\w*\\s*\\w*\\s*\\b({SCOPE_pattern}\\b)\"\n",
        "regex_neg_pos=rf\"\\b({SCOPE_pattern})\\b\\s\\b({NEG_pattern})\\b\"\n",
        "regex_unc_pre=rf\"\\b({UNC_pattern})\\b\\s\\w*\\s*\\w*\\s*\\w*\\s*\\w*\\s*\\w*\\s*\\b({SCOPE_pattern})\\b\"\n",
        "regex_unc_pos=rf\"\\b({SCOPE_pattern})\\b\\s\\w*\\s*\\w*\\s*\\w*\\s*\\w*\\s*\\w*\\s*\\b({UNC_pattern})\\b\"\n"
      ]
    },
    {
      "cell_type": "code",
      "execution_count": 21,
      "metadata": {
        "id": "ZvOrpfG57VM3"
      },
      "outputs": [],
      "source": [
        "regex_neg_pre =rf\"\\b({NEG_pattern})\\b\\s+((?:\\b(?:{SCOPE_pattern})\\b\\s*){{0,5}})\"\n",
        "regex_unc_pre=rf\"\\b({UNC_pattern})\\b\\s+((?:\\b(?:{SCOPE_pattern})\\b\\s*){{0,5}})\""
      ]
    },
    {
      "cell_type": "code",
      "execution_count": 22,
      "metadata": {
        "id": "e3pfd3RWEVPm"
      },
      "outputs": [],
      "source": [
        "regex_neg_pre=rf\"\\b({NEG_pattern})\\b\\s*((?:\\b(?:{SCOPE_pattern_CUTEXT})\\b\\s*){{0,7}})\"\n",
        "regex_unc_pre=rf\"\\b({UNC_pattern})\\b\\s*((?:\\b(?:{SCOPE_pattern_CUTEXT})\\b\\s*){{0,7}})\""
      ]
    },
    {
      "cell_type": "code",
      "execution_count": 23,
      "metadata": {
        "id": "8HpQRAAxLVR-"
      },
      "outputs": [],
      "source": [
        "regex_neg_pre =rf\"\\b({NEG_pattern})\\b\\s*((?:\\b(?:{SCOPE_pattern})\\b\\s*){{0,5}})\"\n",
        "regex_unc_pre=rf\"\\b({UNC_pattern})\\b\\s*((?:\\b(?:{SCOPE_pattern})\\b\\s*){{0,5}})\""
      ]
    },
    {
      "cell_type": "code",
      "execution_count": 24,
      "metadata": {
        "id": "tnaPBhtMKN_X"
      },
      "outputs": [],
      "source": [
        "regex_neg_pos=rf\"((?:\\b(?:{SCOPE_pattern})\\b\\s*){{0,5}})\\s*\\b({NEG_pattern})\\b\"\n",
        "regex_unc_pos=rf\"((?:\\b(?:{SCOPE_pattern})\\b\\s*){{0,5}})\\s*\\b({UNC_pattern})\\b\""
      ]
    },
    {
      "cell_type": "code",
      "execution_count": 25,
      "metadata": {
        "colab": {
          "base_uri": "https://localhost:8080/"
        },
        "id": "b5piE7K3VqNZ",
        "outputId": "8b6db2b6-ea5f-43ee-fc17-b6cdb8d2ff2d"
      },
      "outputs": [
        {
          "name": "stdout",
          "output_type": "stream",
          "text": [
            "323583\n"
          ]
        }
      ],
      "source": [
        "print(len(SCOPE_pattern))"
      ]
    },
    {
      "cell_type": "markdown",
      "metadata": {
        "id": "U66u6gH3_aM0"
      },
      "source": [
        "Make Predictions"
      ]
    },
    {
      "cell_type": "code",
      "execution_count": 26,
      "metadata": {
        "id": "ERlHYxLZvIHG"
      },
      "outputs": [],
      "source": [
        "predictions = []\n",
        "for i in range(len(test_texts)):\n",
        "  dict = {\"NEG\":[],\"NSCO\":[],\"UNC\":[],\"USCO\":[]}\n",
        "  predictions.append(dict)\n",
        "\n",
        "\n",
        "for id, test_text in enumerate(test_texts):\n",
        "  neg_scopes_pre_matches = re.finditer(regex_neg_pre, test_text)\n",
        "  neg_scopes_pos_matches = re.finditer(regex_neg_pos, test_text)\n",
        "  unc_scopes_pre_matches = re.finditer(regex_unc_pre, test_text)\n",
        "  unc_scopes_pos_matches = re.finditer(regex_unc_pos, test_text)\n",
        "\n",
        "  if neg_scopes_pre_matches:\n",
        "    for match in neg_scopes_pre_matches:\n",
        "        #print(\"Whole match:\", match.group(0))\n",
        "        # Get the matched word and its starting/ending positions\n",
        "        matched_word = match.group(1)\n",
        "        start_pos = match.start(1)\n",
        "        end_pos = match.end(1)+1\n",
        "        #print(f\"Found '{matched_word}' at positions ({start_pos}, {end_pos})\")\n",
        "\n",
        "        predictions[id][\"NEG\"].append((start_pos,end_pos,matched_word))\n",
        "\n",
        "        # # Get the scope word\n",
        "        scope_word = match.group(2)\n",
        "        sc_start_pos = end_pos\n",
        "        sc_end_pos = match.end(2)+1\n",
        "\n",
        "        predictions[id][\"NSCO\"].append((sc_start_pos,sc_end_pos,scope_word))\n",
        "\n",
        "        #print(f\"Found scope '{scope_word}' at positions ({sc_start_pos}, {sc_end_pos})\")\n",
        "  '''\n",
        "  if neg_scopes_pos_matches:\n",
        "    for match in neg_scopes_pos_matches:\n",
        "        #print(\"Whole match:\", match.group(0))\n",
        "        # Get the matched word and its starting/ending positions\n",
        "        scope_word = match.group(1)\n",
        "        sc_start_pos = match.start()\n",
        "        sc_end_pos = match.end(1)+1\n",
        "\n",
        "\n",
        "       #print(f\"Found '{scope_word}' at positions ({sc_start_pos}, {sc_end_pos})\")\n",
        "        # # Get the scope word\n",
        "        matched_word = match.group(2)\n",
        "        start_pos = sc_end_pos\n",
        "        end_pos = match.end(2)+1\n",
        "\n",
        "\n",
        "        predictions[id][\"NEG\"].append((start_pos,end_pos,matched_word))\n",
        "        predictions[id][\"NSCO\"].append((sc_start_pos,sc_end_pos,scope_word))\n",
        "\n",
        "        #print(f\"Found scope '{match_word}' at positions ({start_pos}, {end_pos})\")\n",
        "  '''\n",
        "  if unc_scopes_pre_matches:\n",
        "    for match in unc_scopes_pre_matches:\n",
        "        #print(\"Whole match:\", match.group(0))\n",
        "        # Get the matched word and its starting/ending positions\n",
        "        matched_word = match.group(1)\n",
        "        start_pos = match.start()\n",
        "        end_pos = match.end(1)+1\n",
        "        #print(f\"Found '{matched_word}' at positions ({start_pos}, {end_pos})\")\n",
        "\n",
        "        predictions[id][\"UNC\"].append((start_pos,end_pos,matched_word))\n",
        "\n",
        "\n",
        "        # # Get the scope word\n",
        "        scope_word = match.group(2)\n",
        "        sc_start_pos = end_pos\n",
        "        sc_end_pos = match.end(2)+1\n",
        "        #print(f\"Found scope '{scope_word}' at positions ({sc_start_pos}, {sc_end_pos})\")\n",
        "\n",
        "        predictions[id][\"USCO\"].append((sc_start_pos,sc_end_pos,scope_word))\n",
        "    '''\n",
        "    if unc_scopes_pos_matches:\n",
        "      for match in unc_scopes_pos_matches:\n",
        "          #print(\"Whole match:\", match.group(0))\n",
        "          # Get the matched word and its starting/ending positions\n",
        "          scope_word = match.group(1)\n",
        "          sc_start_pos = match.start()\n",
        "          sc_end_pos = match.end(1)+1\n",
        "          #print(f\"Found '{scope_word}' at positions ({sc_start_pos}, {sc_end_pos})\")\n",
        "          # # Get the scope word\n",
        "          matched_word = match.group(2)\n",
        "          start_pos = sc_end_pos\n",
        "          end_pos = match.end(2)+1\n",
        "          #print(f\"Found scope '{matched_word}' at positions ({start_pos}, {end_pos})\")\n",
        "\n",
        "          predictions[id][\"UNC\"].append((start_pos,end_pos,matched_word))\n",
        "          predictions[id][\"USCO\"].append((sc_start_pos,sc_end_pos,scope_word))\n",
        "      '''"
      ]
    },
    {
      "cell_type": "markdown",
      "metadata": {
        "id": "XIXFSiPV_n-5"
      },
      "source": [
        "Sort the text predictions by starting point"
      ]
    },
    {
      "cell_type": "code",
      "execution_count": 27,
      "metadata": {
        "id": "kP9PXuiBy5xA"
      },
      "outputs": [],
      "source": [
        "for dict in predictions:\n",
        "    for key,value in dict.items():\n",
        "\n",
        "      sorted_value=sorted(value, key=lambda x: x[0])\n",
        "      dict[key] = sorted_value"
      ]
    },
    {
      "cell_type": "markdown",
      "metadata": {
        "id": "0tKQTkf9_xsz"
      },
      "source": [
        "Get ground thruth from testing_set"
      ]
    },
    {
      "cell_type": "code",
      "execution_count": 28,
      "metadata": {
        "id": "nsXxzCX3FXB7"
      },
      "outputs": [],
      "source": [
        "def get_gt_format(document):\n",
        "    neg_predictions, unc_predictions, nsco_predictions, usco_predictions = [], [], [], []\n",
        "    text = document[\"data\"][\"text\"]\n",
        "    for result_element in document[\"predictions\"][0][\"result\"]:\n",
        "        start = result_element[\"value\"][\"start\"]\n",
        "        end = result_element[\"value\"][\"end\"]\n",
        "        if \"NEG\" in result_element[\"value\"][\"labels\"]:\n",
        "            neg_predictions.append((start, end, text[start:end]))\n",
        "        if \"UNC\" in result_element[\"value\"][\"labels\"]:\n",
        "            unc_predictions.append((start, end, text[start:end]))\n",
        "        if \"NSCO\" in result_element[\"value\"][\"labels\"]:\n",
        "            nsco_predictions.append((start, end, text[start:end]))\n",
        "        if \"USCO\" in result_element[\"value\"][\"labels\"]:\n",
        "            usco_predictions.append((start, end, text[start:end]))\n",
        "\n",
        "    return neg_predictions, unc_predictions, nsco_predictions, usco_predictions"
      ]
    },
    {
      "cell_type": "code",
      "execution_count": 29,
      "metadata": {
        "colab": {
          "base_uri": "https://localhost:8080/"
        },
        "id": "GD-QWt5ZE3-D",
        "outputId": "d6fe9521-50c4-47e2-d393-303bd97de83a"
      },
      "outputs": [
        {
          "data": {
            "text/plain": [
              "{'NEG': [(395, 398, 'no '),\n",
              "  (499, 505, 'niega '),\n",
              "  (1111, 1119, 'negativo'),\n",
              "  (1141, 1144, 'no '),\n",
              "  (1163, 1166, 'no '),\n",
              "  (1194, 1203, 'negativos'),\n",
              "  (2118, 2122, 'sin ')],\n",
              " 'UNC': [],\n",
              " 'NSCO': [(398, 422, 'alergias medicamentosas '),\n",
              "  (505, 521, 'habitos toxicos '),\n",
              "  (1107, 1111, 'vih '),\n",
              "  (1144, 1150, 'inmune'),\n",
              "  (1166, 1172, 'immune'),\n",
              "  (1174, 1194, 'lues vih, vhb y vhc '),\n",
              "  (2122, 2133, 'incidencias')],\n",
              " 'USCO': []}"
            ]
          },
          "execution_count": 29,
          "metadata": {},
          "output_type": "execute_result"
        }
      ],
      "source": [
        "# FORMAT : (NEG, START, END, WORD)\n",
        "def get_ground_truth(document):\n",
        "    neg_results, unc_results, nsco_results, usco_results = get_gt_format(document)\n",
        "\n",
        "    neg_results_sorted = sorted(neg_results, key=lambda x: x[0])\n",
        "    unc_results_sorted = sorted(unc_results, key=lambda x: x[0])\n",
        "    nsco_results_sorted = sorted(nsco_results, key=lambda x: x[0])\n",
        "    usco_results_sorted = sorted(usco_results, key=lambda x: x[0])\n",
        "\n",
        "    ground_truth_dict = {\"NEG\": neg_results_sorted, \"UNC\": unc_results_sorted, \"NSCO\": nsco_results_sorted, \"USCO\": usco_results_sorted}\n",
        "\n",
        "    return ground_truth_dict\n",
        "\n",
        "\n",
        "\n",
        "get_ground_truth(testing_set[0])"
      ]
    },
    {
      "cell_type": "code",
      "execution_count": 30,
      "metadata": {
        "id": "a9yh7F-jE6tU"
      },
      "outputs": [],
      "source": [
        "# List of dictionaries of GT docuemnts in the test set\n",
        "ground_truths = [get_ground_truth(document) for document in testing_set]\n"
      ]
    },
    {
      "cell_type": "markdown",
      "metadata": {
        "id": "Bh9oGSB2Bcii"
      },
      "source": [
        "Calculate Metrics"
      ]
    },
    {
      "cell_type": "code",
      "execution_count": 31,
      "metadata": {
        "id": "x8dBo8oiF8Ho"
      },
      "outputs": [],
      "source": [
        "def calculate_metrics(predictions,ground_truths):\n",
        "  precision = {\"NEG\":0,\"NSCO\":0,\"UNC\":0,\"USCO\":0}\n",
        "  recall = {\"NEG\":0,\"NSCO\":0,\"UNC\":0,\"USCO\":0}\n",
        "  f1 = {\"NEG\":0,\"NSCO\":0,\"UNC\":0,\"USCO\":0}\n",
        "  tp = {\"NEG\":0,\"NSCO\":0,\"UNC\":0,\"USCO\":0}\n",
        "  num_of_predictions = {\"NEG\":0,\"NSCO\":0,\"UNC\":0,\"USCO\":0}\n",
        "  num_of_ground_truths = {\"NEG\":0,\"NSCO\":0,\"UNC\":0,\"USCO\":0}\n",
        "  for d1,d2 in zip(predictions,ground_truths):\n",
        "\n",
        "    #print(d1[\"UNC\"])\n",
        "    #print(d2[\"UNC\"])\n",
        "    for key in d1:\n",
        "      #print(key)\n",
        "      for elem in d1[key]:\n",
        "        for elem2 in d2[key]:\n",
        "          if abs(elem[0]-elem2[0]) <= 1 and abs(elem[1]-elem2[1]) <=1:\n",
        "            tp[key]+=1\n",
        "            break\n",
        "\n",
        "      num_of_predictions[key]+=len(d1[key])\n",
        "      num_of_ground_truths[key]+=len(d2[key])\n",
        "\n",
        "  for key in precision:\n",
        "    precision[key] = tp[key]/num_of_predictions[key]\n",
        "    recall[key] = tp[key]/num_of_ground_truths[key]\n",
        "    f1[key] = 2*precision[key]*recall[key]/(precision[key]+recall[key])\n",
        "\n",
        "\n",
        "  return precision, recall, f1\n"
      ]
    },
    {
      "cell_type": "code",
      "execution_count": 32,
      "metadata": {
        "id": "ugryzw7-z1T6"
      },
      "outputs": [],
      "source": [
        "precision, recall, f1 = calculate_metrics(predictions,ground_truths)"
      ]
    },
    {
      "cell_type": "code",
      "execution_count": 33,
      "metadata": {
        "colab": {
          "base_uri": "https://localhost:8080/"
        },
        "id": "t-9fgOyLAJJe",
        "outputId": "1df22244-911e-462d-9848-e232507b3f87"
      },
      "outputs": [
        {
          "name": "stdout",
          "output_type": "stream",
          "text": [
            "{'NEG': 0.927487352445194, 'NSCO': 0.5185497470489039, 'UNC': 0.6384180790960452, 'USCO': 0.24293785310734464}\n",
            "{'NEG': 0.9717314487632509, 'NSCO': 0.5726256983240223, 'UNC': 0.8625954198473282, 'USCO': 0.3333333333333333}\n",
            "{'NEG': 0.9490940465918896, 'NSCO': 0.5442477876106194, 'UNC': 0.7337662337662338, 'USCO': 0.28104575163398693}\n"
          ]
        }
      ],
      "source": [
        "print(precision)\n",
        "print(recall)\n",
        "print(f1)"
      ]
    },
    {
      "cell_type": "code",
      "execution_count": 34,
      "metadata": {
        "colab": {
          "base_uri": "https://localhost:8080/"
        },
        "id": "6vV3QoBIEv04",
        "outputId": "7e781f6a-78db-4446-e372-497c236e7c5d"
      },
      "outputs": [
        {
          "name": "stdout",
          "output_type": "stream",
          "text": [
            "{'NEG': 0.927487352445194, 'NSCO': 0.5185497470489039, 'UNC': 0.6384180790960452, 'USCO': 0.24293785310734464}\n",
            "{'NEG': 0.9717314487632509, 'NSCO': 0.5726256983240223, 'UNC': 0.8625954198473282, 'USCO': 0.3333333333333333}\n",
            "{'NEG': 0.9490940465918896, 'NSCO': 0.5442477876106194, 'UNC': 0.7337662337662338, 'USCO': 0.28104575163398693}\n"
          ]
        }
      ],
      "source": [
        "print(precision)\n",
        "print(recall)\n",
        "print(f1)"
      ]
    },
    {
      "cell_type": "markdown",
      "metadata": {
        "id": "aiqTWLBOGVkt"
      },
      "source": [
        "CUTEXT\n"
      ]
    },
    {
      "cell_type": "code",
      "execution_count": 35,
      "metadata": {
        "colab": {
          "base_uri": "https://localhost:8080/"
        },
        "id": "rvBibqG3Ga_9",
        "outputId": "a38ce7ac-35f3-4b0f-a364-8e8b056788bd"
      },
      "outputs": [
        {
          "name": "stdout",
          "output_type": "stream",
          "text": [
            "{'NEG': 0.927487352445194, 'NSCO': 0.5185497470489039, 'UNC': 0.6384180790960452, 'USCO': 0.24293785310734464}\n",
            "{'NEG': 0.9717314487632509, 'NSCO': 0.5726256983240223, 'UNC': 0.8625954198473282, 'USCO': 0.3333333333333333}\n",
            "{'NEG': 0.9490940465918896, 'NSCO': 0.5442477876106194, 'UNC': 0.7337662337662338, 'USCO': 0.28104575163398693}\n"
          ]
        }
      ],
      "source": [
        "print(precision)\n",
        "print(recall)\n",
        "print(f1)"
      ]
    }
  ],
  "metadata": {
    "colab": {
      "provenance": []
    },
    "kernelspec": {
      "display_name": "Python 3",
      "language": "python",
      "name": "python3"
    },
    "language_info": {
      "codemirror_mode": {
        "name": "ipython",
        "version": 3
      },
      "file_extension": ".py",
      "mimetype": "text/x-python",
      "name": "python",
      "nbconvert_exporter": "python",
      "pygments_lexer": "ipython3",
      "version": "3.12.0"
    }
  },
  "nbformat": 4,
  "nbformat_minor": 0
}
