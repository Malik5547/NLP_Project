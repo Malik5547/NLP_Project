{
 "cells": [
  {
   "cell_type": "code",
   "execution_count": 2,
   "metadata": {},
   "outputs": [
    {
     "name": "stdout",
     "output_type": "stream",
     "text": [
      "JSON data parsed successfully!\n",
      "{'data': {'cmbd': 'null', 'id': '19026587', 'docid': 'null', 'page': 'null', 'paragraph': 'null', 'text': \" nº historia clinica: ** *** *** nºepisodi: ******** sexe: home data de naixement: 16.05.1936 edat: 82 anys procedencia cex mateix hosp servei urologia data d'ingres 24.07.2018 data d'alta 25.07.2018 08:54:04 ates per ***************, *****; ****************, ****** informe d'alta d'hospitalitzacio motiu d'ingres paciente que ingresa de forma programada para realizacion de uretrotomia interna . antecedents alergia a penicilina y cloramfenicol . no habitos toxicos. antecedentes medicos: bloqueo auriculoventricular de primer grado hipertension arterial. diverticulosis extensa insuficiencia renal cronica colelitiasis antecedentes quirurgicos: exeresis de lesiones cutaneas con anestesia local protesis total de cadera cordectomia herniorrafia inguinal proces actual varon de 81a que a raiz de episodio de hematuria macroscopica se realiza cistoscopia que es negativa para lesiones malignas pero se objetiva estenosis de uretra . se intentan dilataciones progresivas en el gabinete de urologia sin exito. se solicita estudio de imagen que confirma la existencia de estenosis a nivel d uretra bulbar por lo que se indica uretrtomia interna. exploracio complementaria uretrocistografia retrograda + cums (11/2017): la uretrografia retrograda muestra una uretra anterior con dos estenosis focales a nivel de uretra peneana y bulbar, aunque se observa paso de contraste retrogrado a vejiga. vejiga de correcta capacidad (250 cc de contraste), de paredes trabeculadas y con diverticulos, el mayor de ellos en cara posterolateral izquierda, sin observarse defectos de replecion. la uretrografia miccional muestra una uretra prostatica dilatada, sin claras estenosis focales confirmandose la existencia de las dos estenosis de uretra anterior descritas previamente. moderado residuo postmiccional en vejiga asi como en el interior del diverticulo posterolateral izquierdo descrito. uretroscopia (10/2017) falsa via a nivel de uretra peneana, siguiendo la uretra se detecta gran estenosis que no permite el paso de una guia. nhc ** *** *** (********) age-v-uro 1/2 lopd evolucio clinica el 24 de julio de 2018 con el consentimiento informado del paciente y sin contraindicacion preoperatoria se realiza uretrotomia interna sin incidencias. tras el procedimiento el paciente es trasladado a la planta de hospitalizacion siendo portador de lavado vesical continuo. posteriormente se mantiene en buen estado general, afebril, hemodinamicamente estable y con buen control del dolor. aclarado progresivo de la orina con los lavados vesicales continuos, que permiten su retirada, conserva correcta diuresis. tolerancia correcta a dieta oral. dada la buena evolucion se decide alta domiciliaria siendo portador de sonda vesical. orientacio diagnostica n40.0 hiperplasia prostatica benigna sense simptomes en les vies urinaries inferiors procediments 04.81 injeccio en el nervi periferic d'anestesic per a analgesia 58.0 uretrotomia. excisio de septe uretral, uretrostomia perineal, extraccio de calcul uretral per incisio sonda vesical profilaxis antibiotica, antilucerosa y antitrombotica tractament i recomanacions a l'alta -abundante ingesta de liquidos entorno a dos litros y medio de agua al dia. -puede orinar con restos de sangre durante las proximas semanas. -es normal que sienta escozor al orinar y que tenga algun escape de orina y urgencia miccional al retirar la sonda vesical. mantener sonda vesical durante 14 dias (dos semanas). ciprofloxacino 500mg cada 12h durante dos semanas. -paracetamol 1 g cada 8 horas si molestias. -si fiebre mayor de 38ºc, empeoramiento claro del estado general o imposibilidad miccional por obstruccion de sonda vesical o despues de su retirada, consultar con el servicio de urgencias. -control en consultas externas de urologia segun cita en hoja adjunta. destinacio a l'alta: a domicili nhc ** *** *** (********) age-v-uro 2/2 lopd\"}, 'annotations': [], 'predictions': [{'result': [{'value': {'start': 449, 'end': 452, 'labels': ['NEG']}, 'id': 'ent0', 'from_name': 'label', 'to_name': 'text', 'type': 'labels'}, {'value': {'start': 452, 'end': 468, 'labels': ['NSCO']}, 'id': 'ent1', 'from_name': 'label', 'to_name': 'text', 'type': 'labels'}, {'value': {'start': 844, 'end': 856, 'labels': ['NSCO']}, 'id': 'ent2', 'from_name': 'label', 'to_name': 'text', 'type': 'labels'}, {'value': {'start': 863, 'end': 872, 'labels': ['NEG']}, 'id': 'ent3', 'from_name': 'label', 'to_name': 'text', 'type': 'labels'}, {'value': {'start': 872, 'end': 895, 'labels': ['NSCO']}, 'id': 'ent4', 'from_name': 'label', 'to_name': 'text', 'type': 'labels'}, {'value': {'start': 998, 'end': 1002, 'labels': ['NEG']}, 'id': 'ent5', 'from_name': 'label', 'to_name': 'text', 'type': 'labels'}, {'value': {'start': 1002, 'end': 1008, 'labels': ['NSCO']}, 'id': 'ent6', 'from_name': 'label', 'to_name': 'text', 'type': 'labels'}, {'value': {'start': 1539, 'end': 1543, 'labels': ['NEG']}, 'id': 'ent7', 'from_name': 'label', 'to_name': 'text', 'type': 'labels'}, {'value': {'start': 1543, 'end': 1576, 'labels': ['NSCO']}, 'id': 'ent8', 'from_name': 'label', 'to_name': 'text', 'type': 'labels'}, {'value': {'start': 1643, 'end': 1654, 'labels': ['UNC']}, 'id': 'ent9', 'from_name': 'label', 'to_name': 'text', 'type': 'labels'}, {'value': {'start': 1654, 'end': 1762, 'labels': ['USCO']}, 'id': 'ent10', 'from_name': 'label', 'to_name': 'text', 'type': 'labels'}, {'value': {'start': 1902, 'end': 1908, 'labels': ['UNC']}, 'id': 'ent11', 'from_name': 'label', 'to_name': 'text', 'type': 'labels'}, {'value': {'start': 1908, 'end': 1938, 'labels': ['USCO']}, 'id': 'ent12', 'from_name': 'label', 'to_name': 'text', 'type': 'labels'}, {'value': {'start': 1989, 'end': 1992, 'labels': ['NEG']}, 'id': 'ent13', 'from_name': 'label', 'to_name': 'text', 'type': 'labels'}, {'value': {'start': 1992, 'end': 2020, 'labels': ['NSCO']}, 'id': 'ent14', 'from_name': 'label', 'to_name': 'text', 'type': 'labels'}, {'value': {'start': 2153, 'end': 2157, 'labels': ['NEG']}, 'id': 'ent15', 'from_name': 'label', 'to_name': 'text', 'type': 'labels'}, {'value': {'start': 2157, 'end': 2188, 'labels': ['NSCO']}, 'id': 'ent16', 'from_name': 'label', 'to_name': 'text', 'type': 'labels'}, {'value': {'start': 2219, 'end': 2223, 'labels': ['NEG']}, 'id': 'ent17', 'from_name': 'label', 'to_name': 'text', 'type': 'labels'}, {'value': {'start': 2223, 'end': 2235, 'labels': ['NSCO']}, 'id': 'ent18', 'from_name': 'label', 'to_name': 'text', 'type': 'labels'}, {'value': {'start': 2410, 'end': 2418, 'labels': ['NEG']}, 'id': 'ent19', 'from_name': 'label', 'to_name': 'text', 'type': 'labels'}]}]}\n"
     ]
    }
   ],
   "source": [
    "import json\n",
    "\n",
    "# Step 1: Specify the file path\n",
    "file_path = \"./train_data.json\"  # Replace with your actual file path\n",
    "\n",
    "# Step 2: Open the file in read mode\n",
    "try:\n",
    "  with open(file_path, \"r\") as json_file:\n",
    "    # Step 3: Load the JSON data using json.load()\n",
    "    training_set = json.load(json_file)\n",
    "except FileNotFoundError:\n",
    "  print(f\"Error: File not found at {file_path}\")\n",
    "else:\n",
    "  print(\"JSON data parsed successfully!\")\n",
    "  # Step 4: Access and process the data\n",
    "  # (See examples below based on data structure)\n",
    "\n",
    "print(training_set[0])\n"
   ]
  },
  {
   "cell_type": "code",
   "execution_count": 53,
   "metadata": {},
   "outputs": [
    {
     "name": "stdout",
     "output_type": "stream",
     "text": [
      " nº historia clinica: ** *** *** nºepisodi: ******** sexe: home data de naixement: 14.03.1953 edat: 66 anys procedencia domicil/res.soc servei oncologia medica data d'ingres 25.03.2019 data d'alta 02.04.2019 12:30:00 ates per ************, *****; *******************, ***************** informe d'alta d'hospitalitzacio motiu d'ingres paciente varon de 66 años que acude a urgencias por vomitos y mareos. antecedents no alergias medicamentosas. historia oncologica: afecto de glioblastoma medular . reseccion parcial. se decide qt -rdt esquema stupp tmz y rdt hasta dt 60 gy rt /qt stupp temozolomida. --&gt; fin 23.2.18 1º ciclo de tmz 6/4/18, con rmn a los 3 ciclos sd. damos un total de 7 ciclos con buena tolerancia. pd a los 7 ciclos en forma de diseminacion medular no signisficativa clinicamente. se decid e re-irradiacion con tmz concomitante como radiosensibilizador . evento tv: tvp eeii bilateral proximal abril/18. eco-doppler 24.07.18: venas femorales permeables compresibles con fascidad respiratorias, venas popliteas y gemelares permeables compresible sin trombo. en septiembre/18 con tvp resuelta y fin qt pase a profilaxis secundaria. oct 18: rt/qt sobre los focos de progresion d5/c5 + tmz conc. fin 19/12/18. rm 1.19: estudio de seguimiento que constata signos radiologicos de progresio tumoral por discreto crecimiento de los implantes leptomeningeos dorsales ya conocidas. se constatan signos de carcinomatosis cranail, que no eran presentes en estudio de junio 2018. ( craneo no estudiado en la rm posterior de octubre 2018 que es cuando constatamos la progresion espinal). en curso de 2ª linea de tratamiento con bevacizumab en monoterapia. 06.03.19: estudio rm espinal de control :l muestra mejoria radiologica de la enfermedad dado por una discreta disminucion de la lesion a nivel del cono asi como significativa disminucion de los implantes a nivel dorsal alto y aparente resolucion del pequeño implante a nivel cervical. cambios en la señal de la medula osea de la region dorsal y adelgazamiendo del cordon espinal dorsal, hallazgos atribuibles a cambios post-radicos. no se observan lesiones de nueva aparicion. en seguimiento en consulta de oncologia por dra. vieito / dra. gonzalez. medicacio habitual amlodipino 5mg 1 comp cada 24h, serc 16mg 1 comp cada 8h, metoclopramida 10mg 1 comp cada 8h si nauseas, monurol 1 sobre semanal, tramadol 50mg 1 comp cada 12h sp, clexane 40mg sc cada 24h, duloxetina 30mg 1 comp cada 24h, enalapril 10mg 1 comp cada 24h, gabapentina 300mg cada 12h, septrin forte 1 comp lunes-miercoles-viernes, mastical nhc ** *** *** &nbsp;(********) &nbsp;age-v-onc 1/4 lopd oral dia. proces actual paciente que reconsulsa por inestablidad cefalica con sensacion de vertigo que se exacerban con el movimiento de la cabeza. se ha iniciado serc y el dia sabado se ha duplicado la dosis sin mejoria. se ha realizado el dia 21/03 tc craneal que evidencia signos sugestivos con carcinomatosis leptomeningea por contiguidad, descartando procesos agudos. exploracio fisica fc 78 bpm tªaxi 36.0 ºc fr 16 rpm tªrec ºc ta s 134 mmhg sat o2 98.00 % ta d 70 mmhg pes kg ecog2. paraparesia establecida. paciente conscciente, orientado. no signos de irriacion meningea. exploracio complementaria urgencias: -ag urgencias: hb 14.7g/dl, can 5300, cal 1100, plaquetas 168000, na 140mmol/l, k 3.72mmol/l, ast 18u/l, alt 24u/l, pcr 0.030mg/dl. -tc craneal (21/03): no se evidencian lesiones hemorragicas agudas intra ni extraparenquimatosas, asi como tampoco desplazamientos de las estructuras de linea media supra e infratentoriales. se aprecia area hipodensa y leve engrosamiento a nivel de surcos corticales parietales posteriores (en zona adyacente de captacion leptomeningea en rm del 11.1.2019), sin efecto de masa significativo, que podria corresponder a afectacion por glioblastoma, ya visualizada en rm previa. no se observan lesiones de volumen critico, desplazamiento de la linea media, ademas ciesternas de la base y peritronculares se encuentran libres. sistema ventricular de tamaño y morfologia dentro de la normalidad. parenquima cerebral y de la fosa posterior sin alteraciones densitometricas o morfologicas valorables. amigdalas cerebelosas de disposicion normal. marco oseo sin alteraciones. dismorfia del septum nasal con desviacion hacia la izquierda en su porcion media, y espolon oseo asociado que contacta con el cornete nasal medio ipsilateral. planta de hospitalizacion: -analitica 01/04: hb 13.9 g/dl, leuc 7.58 x10e9/l, can 6.0 x10e9/l, plaq 156 x10e9/l. funcion renal normal, perfil hepatico normal. - rm snc 29/03: el estudio cerebral muestra la aparicion de areas de hiperseñal en secuencias t2 que afectan ambos hipocampos, los margenes mediales de ambos talamos, la sustancia blanca adyacente al asta frontal del vl izquierdo, el parenquima que rodea el acueducto desilvio y iii ventriculo, el margen posterior izquierdo del bulbo y el floculo cerebeloso izquierdo. asi tambien se observa una mayor extension del area de hiperseñal t2 que circunda el cuarto ventriculo, ya descrita en estudio previo. las lesiones localizadas en el floculo y en el bulbo muestran efecto de masa, con leve compresion sobre el cuarto ventriculo. tras la administracion de contraste intravenoso no se observa realce de las lesiones descritas, exceptuando un pequeño realce lineal que afecta el margen posterior de la lesion bulbar, que podria corresponder a estructura vascular. persistencia sin cambios de tamaño de las areas de hiperseñal t2 que afectan el cortex y la sustancia blanca subcortical parietal derecha, de nhc ** *** *** &nbsp;(********) &nbsp;age-v-onc 2/4 lopd aspecto gliotico, con presencia de pequeño foco de hemosiderina cortical, si bien en el estudio actual no se observa realce de las misma. pequeños focos hiperintensos en t2 de localizacion subcortical fronto-parietal sin cambios, inespecificos. no se observan areas focales de restriccion de la difusion, ni lesiones hemorragicas intracraneales recientes. sistema ventricular de tamaño y configuracion normales. estudio medular: el estudio de raquis muestra cambios post quirurgicos de reseccion de arcos posteriores de d11 y d12, con ampliacion del diametro del canal y cambios fibroticos en el lecho quirurgico. moderada disminucion del diametro anteroposterior y del efecto de masa de la lesion medular heterogenea, prevalentemente quistica, centrada en el cono medular. se extiende desde d11 a d12, en la actualidad mide 10x9x52 mm (llxapxcc), en estudio previo 10x11x52 mm. presenta un realce de contraste menos avido que le estudio previo. mutliples focos de hiperintensidad en t2 intramedulares, que han progresado respecto al estudio de 06/03/19, localizados en - d5, con progresion caudal que se extiende hasta d6 y con tenue realce lineal y puntiforme de contraste - reaparicion de la lesion focal en c5-c6, sin aparente realce de contraste. - dudosa lesion en d1. no se observa captacion de contraste en las raices nerviosas. disminucion del grosor del cordon medular a nivel dorsal en relacion a cambios atroficos. existen cambios post radicos difusos sobre el esqueleto axial, que han progresado respecto a los estudios previos. estabilidad los cambios degenerativos osteodiscales facetarios lumbares y cervicales. conclusion: estudio craneal que muestra signos de progresion de enfermedad en forma de diseminacion intracraneal, identificando dos lesiones expansivas localizadas en margen posterior izquierdo del bulbo y floculo izquierdo asi como afectacion difusa del parenquima alrededor del iii y iv ventriculo, acueducto, asta frontal izquierdo, ambas regiones talamicas mediales e hipocampos. el estudio medular muestra una discreta disminucion del tamaño y del realce de la lesion del cono medular, como posible respuesta a tratamiento antiangiogenico, con progresion de las lesiones intramedular focales en d5-d6, reaparicion de la lesion c5-c6 y dudosa lesion a nivel de d1. lesion de aspecto gliotico-residual cortico-subcortical parietal derecho. evolucio clinica paciente con los antecedentes descritos y afecto a nivel oncologico de glioblastoma del cono medular en 2ºl de tratamiento con bevacizumab, que ingresa a planta de oncologia por sensacion de mareos e inestabilidad por probable pd. a su llegada a urgencias el paciente se encontraba se encuentra afebril, hemodinamicamente estable y con regular estado general. el examen fisico revela paraplejia ya conocida, sin nuevas alteraciones neurologicas aparentes. se realiza un tc craneal que muestra area hipodensa y leve engrosamiento a nivel de surcos corticales parietales posteriores. en planta de oncologia se realiza rmn del snc que revela pd en forma de carcinomatosis leptomeningea . se ajusta tratamiento habitual y el pautado en urgencias. consensuado con servicio de ort, se decide realizar rt holocraneal paliativa. pendiente de simulacion y de inicio. activamos pades. durante su estancia hospitalaria el paciente se ha mantenido hemodinamicamente estable y afebril. debido a esto decidimos dar de alta pautando normas de reconsulta u medidas terapeuticas. orientacio diagnostica r42 vertigen i mareig tractament i recomanacions a l'alta iniciara nueva medicacion: -omeprazol 20mg 1 comp cada 24h durante tratamiento con dexametasona. -dexametasona 4mg 1 comp cada 8 horas hasta control con radioterapia (dr *********). -betahistina 16mg 1 comp cada 8 horas alterno con -amisulpirida 50mg 1 comp cada 8 horas. nhc ** *** *** &nbsp;(********) &nbsp;age-v-onc 3/4 lopd si nauseas: metoclopramida 10mg 1 comp cada 8 horas. continuara con medicacion habitual: amlodipino 5mg 1 comp cada 24h, serc 16mg 1 comp cada 8h, metoclopramida 10mg 1 comp cada 8h si nauseas, monurol 1 sobre semanal, tramadol 50mg 1 comp cada 12h sp, clexane 40mg sc cada 24h, duloxetina 30mg 1 comp cada 24h, enalapril 10mg 1 comp cada 24h, gabapentina 300mg cada 12h, septrin forte 1 comp lunes-miercoles-viernes, mastical oral dia. control acudira a consulta externa de oncologia segun citacion. se explican signos de alarma y reconsulta. consulta de atencion inmediata (cai): telefono de contacto: ********4. horario de atencion telefonica, lunes a viernes de 8-17 horas, dias laborables. de 17 horas a 21 horas, dias laborables, llamar a ********00, extension: 6321. destinacio a l'alta: a domicili nhc ** *** *** &nbsp;(********) &nbsp;age-v-onc 4/4 lopd\n"
     ]
    }
   ],
   "source": [
    "print(training_set[3]['data']['text'])"
   ]
  },
  {
   "cell_type": "code",
   "execution_count": 49,
   "metadata": {},
   "outputs": [
    {
     "name": "stdout",
     "output_type": "stream",
     "text": [
      "[{'value': {'start': 416, 'end': 419, 'labels': ['NEG']}, 'id': 'ent0', 'from_name': 'label', 'to_name': 'text', 'type': 'labels'}, {'value': {'start': 771, 'end': 774, 'labels': ['NEG']}, 'id': 'ent1', 'from_name': 'label', 'to_name': 'text', 'type': 'labels'}, {'value': {'start': 1067, 'end': 1071, 'labels': ['NEG']}, 'id': 'ent2', 'from_name': 'label', 'to_name': 'text', 'type': 'labels'}, {'value': {'start': 1445, 'end': 1448, 'labels': ['NEG']}, 'id': 'ent3', 'from_name': 'label', 'to_name': 'text', 'type': 'labels'}, {'value': {'start': 1498, 'end': 1501, 'labels': ['NEG']}, 'id': 'ent4', 'from_name': 'label', 'to_name': 'text', 'type': 'labels'}, {'value': {'start': 2097, 'end': 2100, 'labels': ['NEG']}, 'id': 'ent8', 'from_name': 'label', 'to_name': 'text', 'type': 'labels'}, {'value': {'start': 2837, 'end': 2841, 'labels': ['NEG']}, 'id': 'ent9', 'from_name': 'label', 'to_name': 'text', 'type': 'labels'}, {'value': {'start': 3176, 'end': 3179, 'labels': ['NEG']}, 'id': 'ent12', 'from_name': 'label', 'to_name': 'text', 'type': 'labels'}, {'value': {'start': 3399, 'end': 3402, 'labels': ['NEG']}, 'id': 'ent13', 'from_name': 'label', 'to_name': 'text', 'type': 'labels'}, {'value': {'start': 3485, 'end': 3493, 'labels': ['NEG']}, 'id': 'ent14', 'from_name': 'label', 'to_name': 'text', 'type': 'labels'}, {'value': {'start': 3736, 'end': 3740, 'labels': ['NEG']}, 'id': 'ent15', 'from_name': 'label', 'to_name': 'text', 'type': 'labels'}, {'value': {'start': 3854, 'end': 3857, 'labels': ['NEG']}, 'id': 'ent18', 'from_name': 'label', 'to_name': 'text', 'type': 'labels'}, {'value': {'start': 4112, 'end': 4116, 'labels': ['NEG']}, 'id': 'ent19', 'from_name': 'label', 'to_name': 'text', 'type': 'labels'}, {'value': {'start': 4228, 'end': 4232, 'labels': ['NEG']}, 'id': 'ent20', 'from_name': 'label', 'to_name': 'text', 'type': 'labels'}, {'value': {'start': 5243, 'end': 5246, 'labels': ['NEG']}, 'id': 'ent21', 'from_name': 'label', 'to_name': 'text', 'type': 'labels'}, {'value': {'start': 5440, 'end': 5444, 'labels': ['NEG']}, 'id': 'ent24', 'from_name': 'label', 'to_name': 'text', 'type': 'labels'}, {'value': {'start': 5729, 'end': 5732, 'labels': ['NEG']}, 'id': 'ent26', 'from_name': 'label', 'to_name': 'text', 'type': 'labels'}, {'value': {'start': 5843, 'end': 5847, 'labels': ['NEG']}, 'id': 'ent27', 'from_name': 'label', 'to_name': 'text', 'type': 'labels'}, {'value': {'start': 5871, 'end': 5874, 'labels': ['NEG']}, 'id': 'ent28', 'from_name': 'label', 'to_name': 'text', 'type': 'labels'}, {'value': {'start': 6901, 'end': 6904, 'labels': ['NEG']}, 'id': 'ent31', 'from_name': 'label', 'to_name': 'text', 'type': 'labels'}, {'value': {'start': 8422, 'end': 8426, 'labels': ['NEG']}, 'id': 'ent38', 'from_name': 'label', 'to_name': 'text', 'type': 'labels'}, {'value': {'start': 5856, 'end': 5869, 'labels': ['NEG']}, 'id': 'ent55', 'from_name': 'label', 'to_name': 'text', 'type': 'labels'}, {'value': {'start': 6844, 'end': 6847, 'labels': ['NEG']}, 'id': 'ent57', 'from_name': 'label', 'to_name': 'text', 'type': 'labels'}, {'value': {'start': 8309, 'end': 8316, 'labels': ['NEG']}, 'id': 'ent61', 'from_name': 'label', 'to_name': 'text', 'type': 'labels'}, {'value': {'start': 8978, 'end': 8985, 'labels': ['NEG']}, 'id': 'ent62', 'from_name': 'label', 'to_name': 'text', 'type': 'labels'}]\n"
     ]
    }
   ],
   "source": [
    "document1 = training_set[3]\n",
    "negations = [result_element for result_element in document1[\"predictions\"][0][\"result\"] if \"NEG\" in result_element[\"value\"][\"labels\"]]\n",
    "neg_scopes = [result_element for result_element in document1[\"predictions\"][0][\"result\"] if \"NSCO\" in result_element[\"value\"][\"labels\"]]\n",
    "print(negations)"
   ]
  },
  {
   "cell_type": "code",
   "execution_count": 44,
   "metadata": {},
   "outputs": [],
   "source": [
    "tokens = [\n",
    "    {\n",
    "        \"word\": \"historia\",\n",
    "        \"word_lower\": \"historia\",\n",
    "        \"is_capitalized\": False,\n",
    "        \"is_all_caps\": False,\n",
    "        \"is_digit\": False,\n",
    "        \"word_length\": 8,\n",
    "        \"contains_digits\": False,\n",
    "        \"pos\": \"NOUN\",\n",
    "        \"lemma\": \"historia\",\n",
    "        \"start-end\": {\"start\": 4, \"end\": 12},\n",
    "        \"prefix_2\": \"hi\",\n",
    "        \"suffix_2\": \"ia\",\n",
    "        \"previous_words\": [\"interna\"],\n",
    "        \"next_word\": \"clinica\",\n",
    "    },\n",
    "    {\n",
    "        \"word\": \"historia\",\n",
    "        \"word_lower\": \"historia\",\n",
    "        \"is_capitalized\": False,\n",
    "        \"is_all_caps\": False,\n",
    "        \"is_digit\": False,\n",
    "        \"word_length\": 8,\n",
    "        \"contains_digits\": False,\n",
    "        \"pos\": \"NOUN\",\n",
    "        \"lemma\": \"historia\",\n",
    "        \"start-end\": {\"start\": 449, \"end\": 452},\n",
    "        \"prefix_2\": \"hi\",\n",
    "        \"suffix_2\": \"ia\",\n",
    "        \"previous_words\": [\"interna\"],\n",
    "        \"next_word\": \"clinica\",\n",
    "    },\n",
    "    {\n",
    "        \"word\": \"historia\",\n",
    "        \"word_lower\": \"historia\",\n",
    "        \"is_capitalized\": False,\n",
    "        \"is_all_caps\": False,\n",
    "        \"is_digit\": False,\n",
    "        \"word_length\": 8,\n",
    "        \"contains_digits\": False,\n",
    "        \"pos\": \"NOUN\",\n",
    "        \"lemma\": \"historia\",\n",
    "        \"start-end\": {\"start\": 452, \"end\": 456},\n",
    "        \"prefix_2\": \"hi\",\n",
    "        \"suffix_2\": \"ia\",\n",
    "        \"previous_words\": [\"interna\"],\n",
    "        \"next_word\": \"clinica\",\n",
    "    },\n",
    "    {\n",
    "        \"word\": \"historia\",\n",
    "        \"word_lower\": \"historia\",\n",
    "        \"is_capitalized\": False,\n",
    "        \"is_all_caps\": False,\n",
    "        \"is_digit\": False,\n",
    "        \"word_length\": 8,\n",
    "        \"contains_digits\": False,\n",
    "        \"pos\": \"NOUN\",\n",
    "        \"lemma\": \"historia\",\n",
    "        \"start-end\": {\"start\": 467, \"end\": 478},\n",
    "        \"prefix_2\": \"hi\",\n",
    "        \"suffix_2\": \"ia\",\n",
    "        \"previous_words\": [\"interna\"],\n",
    "        \"next_word\": \"clinica\",\n",
    "    },\n",
    "    {\n",
    "        \"word\": \"historia\",\n",
    "        \"word_lower\": \"historia\",\n",
    "        \"is_capitalized\": False,\n",
    "        \"is_all_caps\": False,\n",
    "        \"is_digit\": False,\n",
    "        \"word_length\": 8,\n",
    "        \"contains_digits\": False,\n",
    "        \"pos\": \"NOUN\",\n",
    "        \"lemma\": \"historia\",\n",
    "        \"start-end\": {\"start\": 863, \"end\": 866},\n",
    "        \"prefix_2\": \"hi\",\n",
    "        \"suffix_2\": \"ia\",\n",
    "        \"previous_words\": [\"interna\"],\n",
    "        \"next_word\": \"clinica\",\n",
    "    },\n",
    "    {\n",
    "        \"word\": \"historia\",\n",
    "        \"word_lower\": \"historia\",\n",
    "        \"is_capitalized\": False,\n",
    "        \"is_all_caps\": False,\n",
    "        \"is_digit\": False,\n",
    "        \"word_length\": 8,\n",
    "        \"contains_digits\": False,\n",
    "        \"pos\": \"NOUN\",\n",
    "        \"lemma\": \"historia\",\n",
    "        \"start-end\": {\"start\": 866, \"end\": 872},\n",
    "        \"prefix_2\": \"hi\",\n",
    "        \"suffix_2\": \"ia\",\n",
    "        \"previous_words\": [\"interna\"],\n",
    "        \"next_word\": \"clinica\",\n",
    "    },\n",
    "    {\n",
    "        \"word\": \"historia\",\n",
    "        \"word_lower\": \"historia\",\n",
    "        \"is_capitalized\": False,\n",
    "        \"is_all_caps\": False,\n",
    "        \"is_digit\": False,\n",
    "        \"word_length\": 8,\n",
    "        \"contains_digits\": False,\n",
    "        \"pos\": \"NOUN\",\n",
    "        \"lemma\": \"historia\",\n",
    "        \"start-end\": {\"start\": 900, \"end\": 923},\n",
    "        \"prefix_2\": \"hi\",\n",
    "        \"suffix_2\": \"ia\",\n",
    "        \"previous_words\": [\"interna\"],\n",
    "        \"next_word\": \"clinica\",\n",
    "    },\n",
    "]"
   ]
  },
  {
   "cell_type": "code",
   "execution_count": 46,
   "metadata": {},
   "outputs": [],
   "source": [
    "\n",
    "# Set BIO tags for the tokens, based on the training negations\n",
    "def BIO_tagging(tokens, labels, label_name):\n",
    "    \"\"\"\n",
    "    Set BIO tags for the tokens based on the labels from the training data.\n",
    "    \n",
    "    Args:\n",
    "    - tokens (list): A list of token dictionaries\n",
    "    - labels (list): A list of labels from the training data\n",
    "    - label_name (str): The name of the label to use for tagging (e.g., \"NEG\")\n",
    "    \"\"\"\n",
    "     \n",
    "    negation_idx = 0\n",
    "\n",
    "    for token in tokens:\n",
    "        if 'tag' not in token:\n",
    "            token['tag'] = 'O'\n",
    "\n",
    "        if negation_idx >= len(labels):\n",
    "            continue\n",
    "\n",
    "        negation = labels[negation_idx]\n",
    "\n",
    "        neg_start = negation['value']['start']\n",
    "        neg_end = negation['value']['end']\n",
    "\n",
    "        # Skip whitespace characters at the start and end positions\n",
    "        if document1['data']['text'][neg_start] == ' ':\n",
    "            neg_start += 1\n",
    "        if document1['data']['text'][neg_end - 1] == ' ':\n",
    "            neg_end -= 1\n",
    "\n",
    "        token_start = token['start-end']['start']\n",
    "        token_end = token['start-end']['end']\n",
    "\n",
    "        if token_start == neg_start:\n",
    "            token['tag'] = f'B-{label_name}'\n",
    "        elif neg_start < token_start < neg_end:\n",
    "            token['tag'] = f'I-{label_name}'\n",
    "        elif token_start > neg_end:\n",
    "            # Move to the next negation that starts after the current token\n",
    "            while negation_idx < len(labels) and token_start > labels[negation_idx]['value']['start']:\n",
    "                negation_idx += 1\n",
    "                negation = labels[negation_idx]\n",
    "            \n",
    "            if token_start == negation['value']['start']:\n",
    "                token['tag'] = f'B-{label_name}'\n",
    "\n",
    "    # Print tokens with BIO tags\n",
    "    for token in tokens:\n",
    "        print(token)"
   ]
  },
  {
   "cell_type": "code",
   "execution_count": 47,
   "metadata": {},
   "outputs": [
    {
     "name": "stdout",
     "output_type": "stream",
     "text": [
      "{'word': 'historia', 'word_lower': 'historia', 'is_capitalized': False, 'is_all_caps': False, 'is_digit': False, 'word_length': 8, 'contains_digits': False, 'pos': 'NOUN', 'lemma': 'historia', 'start-end': {'start': 4, 'end': 12}, 'prefix_2': 'hi', 'suffix_2': 'ia', 'previous_words': ['interna'], 'next_word': 'clinica', 'tag': 'O'}\n",
      "{'word': 'historia', 'word_lower': 'historia', 'is_capitalized': False, 'is_all_caps': False, 'is_digit': False, 'word_length': 8, 'contains_digits': False, 'pos': 'NOUN', 'lemma': 'historia', 'start-end': {'start': 449, 'end': 452}, 'prefix_2': 'hi', 'suffix_2': 'ia', 'previous_words': ['interna'], 'next_word': 'clinica', 'tag': 'B-NEG'}\n",
      "{'word': 'historia', 'word_lower': 'historia', 'is_capitalized': False, 'is_all_caps': False, 'is_digit': False, 'word_length': 8, 'contains_digits': False, 'pos': 'NOUN', 'lemma': 'historia', 'start-end': {'start': 452, 'end': 456}, 'prefix_2': 'hi', 'suffix_2': 'ia', 'previous_words': ['interna'], 'next_word': 'clinica', 'tag': 'B-NSCO'}\n",
      "{'word': 'historia', 'word_lower': 'historia', 'is_capitalized': False, 'is_all_caps': False, 'is_digit': False, 'word_length': 8, 'contains_digits': False, 'pos': 'NOUN', 'lemma': 'historia', 'start-end': {'start': 467, 'end': 478}, 'prefix_2': 'hi', 'suffix_2': 'ia', 'previous_words': ['interna'], 'next_word': 'clinica', 'tag': 'I-NSCO'}\n",
      "{'word': 'historia', 'word_lower': 'historia', 'is_capitalized': False, 'is_all_caps': False, 'is_digit': False, 'word_length': 8, 'contains_digits': False, 'pos': 'NOUN', 'lemma': 'historia', 'start-end': {'start': 863, 'end': 866}, 'prefix_2': 'hi', 'suffix_2': 'ia', 'previous_words': ['interna'], 'next_word': 'clinica', 'tag': 'B-NEG'}\n",
      "{'word': 'historia', 'word_lower': 'historia', 'is_capitalized': False, 'is_all_caps': False, 'is_digit': False, 'word_length': 8, 'contains_digits': False, 'pos': 'NOUN', 'lemma': 'historia', 'start-end': {'start': 866, 'end': 872}, 'prefix_2': 'hi', 'suffix_2': 'ia', 'previous_words': ['interna'], 'next_word': 'clinica', 'tag': 'I-NEG'}\n",
      "{'word': 'historia', 'word_lower': 'historia', 'is_capitalized': False, 'is_all_caps': False, 'is_digit': False, 'word_length': 8, 'contains_digits': False, 'pos': 'NOUN', 'lemma': 'historia', 'start-end': {'start': 900, 'end': 923}, 'prefix_2': 'hi', 'suffix_2': 'ia', 'previous_words': ['interna'], 'next_word': 'clinica', 'tag': 'O'}\n",
      "--\n",
      "{'word': 'historia', 'word_lower': 'historia', 'is_capitalized': False, 'is_all_caps': False, 'is_digit': False, 'word_length': 8, 'contains_digits': False, 'pos': 'NOUN', 'lemma': 'historia', 'start-end': {'start': 4, 'end': 12}, 'prefix_2': 'hi', 'suffix_2': 'ia', 'previous_words': ['interna'], 'next_word': 'clinica', 'tag': 'O'}\n",
      "{'word': 'historia', 'word_lower': 'historia', 'is_capitalized': False, 'is_all_caps': False, 'is_digit': False, 'word_length': 8, 'contains_digits': False, 'pos': 'NOUN', 'lemma': 'historia', 'start-end': {'start': 449, 'end': 452}, 'prefix_2': 'hi', 'suffix_2': 'ia', 'previous_words': ['interna'], 'next_word': 'clinica', 'tag': 'B-NEG'}\n",
      "{'word': 'historia', 'word_lower': 'historia', 'is_capitalized': False, 'is_all_caps': False, 'is_digit': False, 'word_length': 8, 'contains_digits': False, 'pos': 'NOUN', 'lemma': 'historia', 'start-end': {'start': 452, 'end': 456}, 'prefix_2': 'hi', 'suffix_2': 'ia', 'previous_words': ['interna'], 'next_word': 'clinica', 'tag': 'B-NSCO'}\n",
      "{'word': 'historia', 'word_lower': 'historia', 'is_capitalized': False, 'is_all_caps': False, 'is_digit': False, 'word_length': 8, 'contains_digits': False, 'pos': 'NOUN', 'lemma': 'historia', 'start-end': {'start': 467, 'end': 478}, 'prefix_2': 'hi', 'suffix_2': 'ia', 'previous_words': ['interna'], 'next_word': 'clinica', 'tag': 'I-NSCO'}\n",
      "{'word': 'historia', 'word_lower': 'historia', 'is_capitalized': False, 'is_all_caps': False, 'is_digit': False, 'word_length': 8, 'contains_digits': False, 'pos': 'NOUN', 'lemma': 'historia', 'start-end': {'start': 863, 'end': 866}, 'prefix_2': 'hi', 'suffix_2': 'ia', 'previous_words': ['interna'], 'next_word': 'clinica', 'tag': 'B-NEG'}\n",
      "{'word': 'historia', 'word_lower': 'historia', 'is_capitalized': False, 'is_all_caps': False, 'is_digit': False, 'word_length': 8, 'contains_digits': False, 'pos': 'NOUN', 'lemma': 'historia', 'start-end': {'start': 866, 'end': 872}, 'prefix_2': 'hi', 'suffix_2': 'ia', 'previous_words': ['interna'], 'next_word': 'clinica', 'tag': 'I-NEG'}\n",
      "{'word': 'historia', 'word_lower': 'historia', 'is_capitalized': False, 'is_all_caps': False, 'is_digit': False, 'word_length': 8, 'contains_digits': False, 'pos': 'NOUN', 'lemma': 'historia', 'start-end': {'start': 900, 'end': 923}, 'prefix_2': 'hi', 'suffix_2': 'ia', 'previous_words': ['interna'], 'next_word': 'clinica', 'tag': 'O'}\n"
     ]
    }
   ],
   "source": [
    "BIO_tagging(tokens, negations, 'NEG')\n",
    "print(\"--\")\n",
    "BIO_tagging(tokens, neg_scopes, 'NSCO')"
   ]
  },
  {
   "cell_type": "code",
   "execution_count": 31,
   "metadata": {},
   "outputs": [
    {
     "name": "stdout",
     "output_type": "stream",
     "text": [
      "Token starts after negation\n",
      "Token starts after negation\n",
      "{'word': 'historia', 'word_lower': 'historia', 'is_capitalized': False, 'is_all_caps': False, 'is_digit': False, 'word_length': 8, 'contains_digits': False, 'pos': 'NOUN', 'lemma': 'historia', 'start-end': {'start': 4, 'end': 12}, 'prefix_2': 'hi', 'suffix_2': 'ia', 'previous_words': ['interna'], 'next_word': 'clinica', 'tag': 'O'}\n",
      "{'word': 'historia', 'word_lower': 'historia', 'is_capitalized': False, 'is_all_caps': False, 'is_digit': False, 'word_length': 8, 'contains_digits': False, 'pos': 'NOUN', 'lemma': 'historia', 'start-end': {'start': 449, 'end': 452}, 'prefix_2': 'hi', 'suffix_2': 'ia', 'previous_words': ['interna'], 'next_word': 'clinica', 'tag': 'B-NEG'}\n",
      "{'word': 'historia', 'word_lower': 'historia', 'is_capitalized': False, 'is_all_caps': False, 'is_digit': False, 'word_length': 8, 'contains_digits': False, 'pos': 'NOUN', 'lemma': 'historia', 'start-end': {'start': 467, 'end': 478}, 'prefix_2': 'hi', 'suffix_2': 'ia', 'previous_words': ['interna'], 'next_word': 'clinica', 'tag': 'O'}\n",
      "{'word': 'historia', 'word_lower': 'historia', 'is_capitalized': False, 'is_all_caps': False, 'is_digit': False, 'word_length': 8, 'contains_digits': False, 'pos': 'NOUN', 'lemma': 'historia', 'start-end': {'start': 863, 'end': 866}, 'prefix_2': 'hi', 'suffix_2': 'ia', 'previous_words': ['interna'], 'next_word': 'clinica', 'tag': 'B-NEG'}\n",
      "{'word': 'historia', 'word_lower': 'historia', 'is_capitalized': False, 'is_all_caps': False, 'is_digit': False, 'word_length': 8, 'contains_digits': False, 'pos': 'NOUN', 'lemma': 'historia', 'start-end': {'start': 866, 'end': 872}, 'prefix_2': 'hi', 'suffix_2': 'ia', 'previous_words': ['interna'], 'next_word': 'clinica', 'tag': 'I-NEG'}\n",
      "{'word': 'historia', 'word_lower': 'historia', 'is_capitalized': False, 'is_all_caps': False, 'is_digit': False, 'word_length': 8, 'contains_digits': False, 'pos': 'NOUN', 'lemma': 'historia', 'start-end': {'start': 900, 'end': 923}, 'prefix_2': 'hi', 'suffix_2': 'ia', 'previous_words': ['interna'], 'next_word': 'clinica', 'tag': 'O'}\n"
     ]
    }
   ],
   "source": [
    "\n",
    "# Set BIO tags for the tokens, based on the training negations\n",
    "\n",
    "negation_idx = 0\n",
    "\n",
    "for token in tokens:\n",
    "    token['tag'] = 'O'\n",
    "\n",
    "    if negation_idx >= len(negations):\n",
    "        continue\n",
    "\n",
    "    negation = negations[negation_idx]\n",
    "\n",
    "    neg_start = negation['value']['start']\n",
    "    neg_end = negation['value']['end']\n",
    "\n",
    "    # Skip whitespace characters at the start and end positions\n",
    "    if document1['data']['text'][neg_start] == ' ':\n",
    "        neg_start += 1\n",
    "    if document1['data']['text'][neg_end - 1] == ' ':\n",
    "        neg_end -= 1\n",
    "\n",
    "    token_start = token['start-end']['start']\n",
    "    token_end = token['start-end']['end']\n",
    "\n",
    "    if token_start == neg_start:\n",
    "        token['tag'] = 'B-NEG'\n",
    "    elif neg_start < token_start < neg_end:\n",
    "        token['tag'] = 'I-NEG'\n",
    "    elif token_start > neg_end:\n",
    "        print(\"Token starts after negation\")\n",
    "        # Move to the next negation that starts after the current token\n",
    "        while negation_idx < len(negations) and token_start > negations[negation_idx]['value']['start']:\n",
    "            negation_idx += 1\n",
    "            negation = negations[negation_idx]\n",
    "        \n",
    "        if token_start == negation['value']['start']:\n",
    "            token['tag'] = 'B-NEG'\n",
    "\n",
    "# Print tokens with BIO tags\n",
    "for token in tokens:\n",
    "    print(token)"
   ]
  },
  {
   "cell_type": "code",
   "execution_count": 67,
   "metadata": {},
   "outputs": [
    {
     "name": "stdout",
     "output_type": "stream",
     "text": [
      "antecedents 404\n",
      "no 416\n",
      "alergias 419\n",
      "medicamentosas 428\n",
      ". 442\n"
     ]
    }
   ],
   "source": [
    "import spacy\n",
    "\n",
    "\n",
    "text = \" nº historia clinica: ** *** *** nºepisodi: ******** sexe: home data de naixement: 14.03.1953 edat: 66 anys procedencia domicil/res.soc servei oncologia medica data d'ingres 25.03.2019 data d'alta 02.04.2019 12:30:00 ates per ************, *****; *******************, ***************** informe d'alta d'hospitalitzacio motiu d'ingres paciente varon de 66 años que acude a urgencias por vomitos y mareos. antecedents no alergias medicamentosas. historia oncologica: afecto de glioblastoma medular . reseccion parcial. se decide qt -rdt esquema stupp tmz y rdt hasta dt 60 gy rt /qt stupp temozolomida. --&gt; fin 23.2.18 1º ciclo de tmz 6/4/18, con rmn a los 3 ciclos sd.\"\n",
    "nlp = spacy.load('es_core_news_md')\n",
    "sentences = nlp(text)\n",
    "\n",
    "token_sent = [[token for token in sentence] for sentence in sentences.sents]\n",
    "\n",
    "for token in token_sent[2]:\n",
    "    print(token.text, token.idx)\n"
   ]
  }
 ],
 "metadata": {
  "kernelspec": {
   "display_name": "Python 3",
   "language": "python",
   "name": "python3"
  },
  "language_info": {
   "codemirror_mode": {
    "name": "ipython",
    "version": 3
   },
   "file_extension": ".py",
   "mimetype": "text/x-python",
   "name": "python",
   "nbconvert_exporter": "python",
   "pygments_lexer": "ipython3",
   "version": "3.11.0"
  }
 },
 "nbformat": 4,
 "nbformat_minor": 2
}
